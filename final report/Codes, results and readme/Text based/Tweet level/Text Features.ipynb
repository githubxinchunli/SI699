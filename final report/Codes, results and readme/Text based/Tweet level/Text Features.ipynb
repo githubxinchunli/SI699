{
 "cells": [
  {
   "cell_type": "code",
   "execution_count": 113,
   "metadata": {},
   "outputs": [],
   "source": [
    "import pandas as pd\n",
    "genuine_accounts_tweets = pd.read_csv('cresci-2017.csv/datasets_full.csv/genuine_accounts.csv/tweets.csv', low_memory=False)\n",
    "traditional_spambots_1_tweets = pd.read_csv('cresci-2017.csv/datasets_full.csv/traditional_spambots_1.csv/tweets.csv', low_memory=False)\n",
    "fake_followers_tweets=pd.read_csv('cresci-2017.csv/datasets_full.csv/fake_followers.csv/tweets.csv', low_memory=False)\n",
    "social_spambots_3_tweets = pd.read_csv('cresci-2017.csv/datasets_full.csv/social_spambots_3.csv/tweets.csv', low_memory=False)\n",
    "social_spambots_2_tweets = pd.read_csv('cresci-2017.csv/datasets_full.csv/social_spambots_2.csv/tweets.csv', low_memory=False)\n",
    "russian_troll_tweets = pd.read_csv('russian-troll-tweets/tweets.csv', low_memory=False)"
   ]
  },
  {
   "cell_type": "code",
   "execution_count": 299,
   "metadata": {},
   "outputs": [],
   "source": [
    "a = genuine_accounts_tweets\n",
    "b= russian_troll_tweets\n",
    "c= social_spambots_3_tweets"
   ]
  },
  {
   "cell_type": "code",
   "execution_count": 300,
   "metadata": {},
   "outputs": [],
   "source": [
    "a['label']=int(0)\n",
    "b['label']=int(1)\n",
    "c['label']=int(1)\n",
    "\n",
    "import random\n",
    "a1 = a.sample(n=1000, random_state=1)\n",
    "a2 = a.drop(index=a1.index).sample(n=1000, random_state=0)\n",
    "b = b.sample(n=1000, random_state=1)\n",
    "c = c.sample(n=1000, random_state=1)"
   ]
  },
  {
   "cell_type": "code",
   "execution_count": 301,
   "metadata": {},
   "outputs": [
    {
     "name": "stderr",
     "output_type": "stream",
     "text": [
      "/Users/xinchunli/anaconda3/lib/python3.6/site-packages/ipykernel_launcher.py:1: FutureWarning: Sorting because non-concatenation axis is not aligned. A future version\n",
      "of pandas will change to not sort by default.\n",
      "\n",
      "To accept the future behavior, pass 'sort=False'.\n",
      "\n",
      "To retain the current behavior and silence the warning, pass 'sort=True'.\n",
      "\n",
      "  \"\"\"Entry point for launching an IPython kernel.\n"
     ]
    }
   ],
   "source": [
    "ab=pd.concat([b, a1], axis=0)\n",
    "ab_text = ab[['text', 'label']]\n",
    "ab_text = ab_text.fillna('None')\n",
    "\n",
    "ac=pd.concat([c, a2], axis=0)\n",
    "ac_text=ac[['text', 'label']]\n",
    "ac_text = ac_text.fillna('None')"
   ]
  },
  {
   "cell_type": "code",
   "execution_count": 302,
   "metadata": {},
   "outputs": [],
   "source": [
    "# clean content: \n",
    "from spacy.lang.en.stop_words import STOP_WORDS\n",
    "import re\n",
    "import os\n",
    "def cleanContent(contents):\n",
    "    contents_new=[]\n",
    "    contents_list = contents.tolist()\n",
    "    tweets_list_new=[]\n",
    "    for tweet in contents_list:\n",
    "        if 'http' in tweet:\n",
    "            index = tweet.rfind('http')\n",
    "            tweet = tweet.replace(tweet[index:], '')\n",
    "        tweets_list_new.append(tweet)\n",
    "    for content in tweets_list_new:\n",
    "        # Convert to lowercase\n",
    "        content_low=content.lower()\n",
    "        # Remove punctuation and any other non-alphabet characters\n",
    "        content_low_pnt = re.sub(r'[^\\w\\s]', '', content_low)\n",
    "        content_low_pnt = content_low_pnt.replace(os.linesep, \" \")\n",
    "        content_low_pnt = content_low_pnt.replace(\"\\t\", \" \")\n",
    "        content_low_pnt_alpha = re.sub('[^A-Za-z\\s]', '', content_low_pnt)\n",
    "        # Remove stopwords\n",
    "        words=content_low_pnt_alpha.split()\n",
    "        no_stop_words=[word for word in words if word not in STOP_WORDS]\n",
    "        content=' '.join(no_stop_words)\n",
    "        contents_new.append(content)\n",
    "    return contents_new"
   ]
  },
  {
   "cell_type": "code",
   "execution_count": 303,
   "metadata": {},
   "outputs": [],
   "source": [
    "ab_text.text=cleanContent(ab_text.text)\n",
    "ac_text.text=cleanContent(ac_text.text)"
   ]
  },
  {
   "cell_type": "code",
   "execution_count": 304,
   "metadata": {},
   "outputs": [],
   "source": [
    "ab_text_list=[]\n",
    "for text in ab_text.text:\n",
    "    ab_text_list.append(text)"
   ]
  },
  {
   "cell_type": "code",
   "execution_count": 305,
   "metadata": {},
   "outputs": [],
   "source": [
    "ab_text_list_string=\"\"\n",
    "for text in ab_text_list:\n",
    "    ab_text_list_string+=text"
   ]
  },
  {
   "cell_type": "code",
   "execution_count": 306,
   "metadata": {},
   "outputs": [],
   "source": [
    "ac_text_list=[]\n",
    "for text in ac_text.text:\n",
    "    ac_text_list.append(text)"
   ]
  },
  {
   "cell_type": "code",
   "execution_count": 307,
   "metadata": {},
   "outputs": [],
   "source": [
    "from sklearn.feature_extraction.text import CountVectorizer\n",
    "vectorizer = CountVectorizer()\n",
    "data_corpus = ab_text_list\n",
    "X = vectorizer.fit_transform(data_corpus) \n",
    "# traditional1_array=X.toarray() \n",
    "feature_names1=vectorizer.get_feature_names()"
   ]
  },
  {
   "cell_type": "code",
   "execution_count": 308,
   "metadata": {},
   "outputs": [],
   "source": [
    "from sklearn.feature_extraction.text import TfidfVectorizer\n",
    "from sklearn.feature_extraction.text import TfidfTransformer\n",
    "transformer = TfidfTransformer(smooth_idf=False).fit(X)\n",
    "X_tf = transformer.transform(X)"
   ]
  },
  {
   "cell_type": "code",
   "execution_count": 309,
   "metadata": {},
   "outputs": [],
   "source": [
    "X_tf.columns=vectorizer.get_feature_names()"
   ]
  },
  {
   "cell_type": "code",
   "execution_count": 310,
   "metadata": {},
   "outputs": [],
   "source": [
    "from sklearn.linear_model import LogisticRegression\n",
    "clf=LogisticRegression(penalty=\"l1\",random_state=0).fit(X_tf, ab_text.label)"
   ]
  },
  {
   "cell_type": "code",
   "execution_count": 311,
   "metadata": {},
   "outputs": [],
   "source": [
    "## referred from https://medium.com/@aneesha/visualising-top-features-in-linear-svm-with-scikit-learn-and-matplotlib-3454ab18a14d\n",
    "\n",
    "import numpy as np\n",
    "top_features=20\n",
    "coef = clf.coef_.ravel()\n",
    "top_positive_coefficients = np.argsort(coef)[-top_features:]\n",
    "featurenames=np.array(feature_names)[top_positive_coefficients]"
   ]
  },
  {
   "cell_type": "code",
   "execution_count": 325,
   "metadata": {},
   "outputs": [
    {
     "data": {
      "image/png": "[encoded data removed]",
      "text/plain": [
       "<Figure size 360x288 with 1 Axes>"
      ]
     },
     "metadata": {
      "needs_background": "light"
     },
     "output_type": "display_data"
    }
   ],
   "source": [
    "import seaborn as sns\n",
    "import matplotlib.pyplot as plt\n",
    "\n",
    "top_positive_coefficients = np.argsort(coef)[-top_features:]\n",
    "\n",
    "ax=sns.barplot(x=coef[top_positive_coefficients],y=feature_names[top_positive_coefficients])\n",
    "ax.set_title('Russian Trolls Word Features and Coefficients')\n",
    "ax.set_ylabel('Word Features')\n",
    "plt.rcParams['figure.figsize'] = (5.0, 4.0) \n"
   ]
  }
 ],
 "metadata": {
  "kernelspec": {
   "display_name": "Python 3",
   "language": "python",
   "name": "python3"
  },
  "language_info": {
   "codemirror_mode": {
    "name": "ipython",
    "version": 3
   },
   "file_extension": ".py",
   "mimetype": "text/x-python",
   "name": "python",
   "nbconvert_exporter": "python",
   "pygments_lexer": "ipython3",
   "version": "3.6.7"
  }
 },
 "nbformat": 4,
 "nbformat_minor": 2
}
