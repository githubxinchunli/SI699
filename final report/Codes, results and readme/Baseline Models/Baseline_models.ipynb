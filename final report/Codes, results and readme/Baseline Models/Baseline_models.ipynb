{
 "cells": [
  {
   "cell_type": "code",
   "execution_count": 1,
   "metadata": {},
   "outputs": [],
   "source": [
    "import pandas as pd"
   ]
  },
  {
   "cell_type": "code",
   "execution_count": 2,
   "metadata": {},
   "outputs": [],
   "source": [
    "genuine_accounts_users = pd.read_csv('cresci-2017.csv/datasets_full.csv/genuine_accounts.csv/users.csv')"
   ]
  },
  {
   "cell_type": "code",
   "execution_count": 3,
   "metadata": {},
   "outputs": [
    {
     "name": "stderr",
     "output_type": "stream",
     "text": [
      "/Users/xinchunli/anaconda3/lib/python3.6/site-packages/IPython/core/interactiveshell.py:3020: DtypeWarning: Columns (0) have mixed types. Specify dtype option on import or set low_memory=False.\n",
      "  interactivity=interactivity, compiler=compiler, result=result)\n"
     ]
    }
   ],
   "source": [
    "genuine_accounts_tweets = pd.read_csv('cresci-2017.csv/datasets_full.csv/genuine_accounts.csv/tweets.csv')"
   ]
  },
  {
   "cell_type": "code",
   "execution_count": 4,
   "metadata": {},
   "outputs": [],
   "source": [
    "genuine_accounts_tweets = genuine_accounts_tweets[genuine_accounts_tweets['user_id'].isnull()==False]"
   ]
  },
  {
   "cell_type": "code",
   "execution_count": 5,
   "metadata": {},
   "outputs": [],
   "source": [
    "genuine_accounts_users.rename(columns={'id': 'user_id'}, inplace=True)"
   ]
  },
  {
   "cell_type": "code",
   "execution_count": 6,
   "metadata": {},
   "outputs": [],
   "source": [
    "genuine_accounts_merged = pd.merge(genuine_accounts_users, genuine_accounts_tweets, on = 'user_id', how = 'outer')"
   ]
  },
  {
   "cell_type": "code",
   "execution_count": 7,
   "metadata": {},
   "outputs": [
    {
     "data": {
      "text/plain": [
       "(2841752, 66)"
      ]
     },
     "execution_count": 7,
     "metadata": {},
     "output_type": "execute_result"
    }
   ],
   "source": [
    "genuine_accounts_merged.shape"
   ]
  },
  {
   "cell_type": "code",
   "execution_count": 8,
   "metadata": {},
   "outputs": [
    {
     "data": {
      "text/plain": [
       "Index(['user_id', 'name', 'screen_name', 'statuses_count', 'followers_count',\n",
       "       'friends_count', 'favourites_count', 'listed_count', 'url', 'lang',\n",
       "       'time_zone', 'location', 'default_profile', 'default_profile_image',\n",
       "       'geo_enabled', 'profile_image_url', 'profile_banner_url',\n",
       "       'profile_use_background_image', 'profile_background_image_url_https',\n",
       "       'profile_text_color', 'profile_image_url_https',\n",
       "       'profile_sidebar_border_color', 'profile_background_tile',\n",
       "       'profile_sidebar_fill_color', 'profile_background_image_url',\n",
       "       'profile_background_color', 'profile_link_color', 'utc_offset',\n",
       "       'is_translator', 'follow_request_sent', 'protected', 'verified',\n",
       "       'notifications', 'description', 'contributors_enabled', 'following',\n",
       "       'created_at_x', 'timestamp_x', 'crawled_at_x', 'updated_x',\n",
       "       'test_set_1', 'test_set_2', 'id', 'text', 'source', 'truncated',\n",
       "       'in_reply_to_status_id', 'in_reply_to_user_id',\n",
       "       'in_reply_to_screen_name', 'retweeted_status_id', 'geo', 'place',\n",
       "       'contributors', 'retweet_count', 'reply_count', 'favorite_count',\n",
       "       'favorited', 'retweeted', 'possibly_sensitive', 'num_hashtags',\n",
       "       'num_urls', 'num_mentions', 'created_at_y', 'timestamp_y',\n",
       "       'crawled_at_y', 'updated_y'],\n",
       "      dtype='object')"
      ]
     },
     "execution_count": 8,
     "metadata": {},
     "output_type": "execute_result"
    }
   ],
   "source": [
    "genuine_accounts_merged.columns"
   ]
  },
  {
   "cell_type": "code",
   "execution_count": 9,
   "metadata": {},
   "outputs": [
    {
     "name": "stderr",
     "output_type": "stream",
     "text": [
      "/Users/xinchunli/anaconda3/lib/python3.6/site-packages/IPython/core/interactiveshell.py:3020: DtypeWarning: Columns (10) have mixed types. Specify dtype option on import or set low_memory=False.\n",
      "  interactivity=interactivity, compiler=compiler, result=result)\n"
     ]
    }
   ],
   "source": [
    "social_spambots_1_tweets = pd.read_csv('cresci-2017.csv/datasets_full.csv/social_spambots_1.csv/tweets.csv')"
   ]
  },
  {
   "cell_type": "code",
   "execution_count": 10,
   "metadata": {},
   "outputs": [
    {
     "data": {
      "text/plain": [
       "(1610034, 25)"
      ]
     },
     "execution_count": 10,
     "metadata": {},
     "output_type": "execute_result"
    }
   ],
   "source": [
    "social_spambots_1_tweets.shape"
   ]
  },
  {
   "cell_type": "code",
   "execution_count": 11,
   "metadata": {},
   "outputs": [],
   "source": [
    "social_spambots_1_users = pd.read_csv('cresci-2017.csv/datasets_full.csv/social_spambots_1.csv/users.csv')"
   ]
  },
  {
   "cell_type": "code",
   "execution_count": 12,
   "metadata": {},
   "outputs": [
    {
     "data": {
      "text/html": [
       "<div>\n",
       "<style scoped>\n",
       "    .dataframe tbody tr th:only-of-type {\n",
       "        vertical-align: middle;\n",
       "    }\n",
       "\n",
       "    .dataframe tbody tr th {\n",
       "        vertical-align: top;\n",
       "    }\n",
       "\n",
       "    .dataframe thead th {\n",
       "        text-align: right;\n",
       "    }\n",
       "</style>\n",
       "<table border=\"1\" class=\"dataframe\">\n",
       "  <thead>\n",
       "    <tr style=\"text-align: right;\">\n",
       "      <th></th>\n",
       "      <th>id</th>\n",
       "      <th>name</th>\n",
       "      <th>screen_name</th>\n",
       "      <th>statuses_count</th>\n",
       "      <th>followers_count</th>\n",
       "      <th>friends_count</th>\n",
       "      <th>favourites_count</th>\n",
       "      <th>listed_count</th>\n",
       "      <th>url</th>\n",
       "      <th>lang</th>\n",
       "      <th>...</th>\n",
       "      <th>verified</th>\n",
       "      <th>notifications</th>\n",
       "      <th>description</th>\n",
       "      <th>contributors_enabled</th>\n",
       "      <th>following</th>\n",
       "      <th>created_at</th>\n",
       "      <th>timestamp</th>\n",
       "      <th>crawled_at</th>\n",
       "      <th>updated</th>\n",
       "      <th>test_set_1</th>\n",
       "    </tr>\n",
       "  </thead>\n",
       "  <tbody>\n",
       "    <tr>\n",
       "      <th>0</th>\n",
       "      <td>24858289</td>\n",
       "      <td>Davide Bertoli</td>\n",
       "      <td>davideb66</td>\n",
       "      <td>1299</td>\n",
       "      <td>22</td>\n",
       "      <td>40</td>\n",
       "      <td>1</td>\n",
       "      <td>0</td>\n",
       "      <td>NaN</td>\n",
       "      <td>it</td>\n",
       "      <td>...</td>\n",
       "      <td>NaN</td>\n",
       "      <td>NaN</td>\n",
       "      <td>NaN</td>\n",
       "      <td>NaN</td>\n",
       "      <td>NaN</td>\n",
       "      <td>Tue Mar 17 08:51:12 +0000 2009</td>\n",
       "      <td>2009-03-17 09:51:12</td>\n",
       "      <td>2014-04-19 14:46:19</td>\n",
       "      <td>2016-03-15 14:12:22</td>\n",
       "      <td>1</td>\n",
       "    </tr>\n",
       "    <tr>\n",
       "      <th>1</th>\n",
       "      <td>33212890</td>\n",
       "      <td>Elisa D'Ospina</td>\n",
       "      <td>ElisaDospina</td>\n",
       "      <td>18665</td>\n",
       "      <td>12561</td>\n",
       "      <td>3442</td>\n",
       "      <td>16358</td>\n",
       "      <td>110</td>\n",
       "      <td>http://t.co/ceK8TovxwI</td>\n",
       "      <td>it</td>\n",
       "      <td>...</td>\n",
       "      <td>NaN</td>\n",
       "      <td>NaN</td>\n",
       "      <td>Autrice del libro #unavitatuttacurve dal 9 apr...</td>\n",
       "      <td>NaN</td>\n",
       "      <td>NaN</td>\n",
       "      <td>Sun Apr 19 14:38:04 +0000 2009</td>\n",
       "      <td>2009-04-19 16:38:04</td>\n",
       "      <td>2014-05-18 23:20:58</td>\n",
       "      <td>2016-03-15 14:17:13</td>\n",
       "      <td>1</td>\n",
       "    </tr>\n",
       "    <tr>\n",
       "      <th>2</th>\n",
       "      <td>39773427</td>\n",
       "      <td>Donato Vincenzo</td>\n",
       "      <td>Vladimir65</td>\n",
       "      <td>22987</td>\n",
       "      <td>600</td>\n",
       "      <td>755</td>\n",
       "      <td>14</td>\n",
       "      <td>6</td>\n",
       "      <td>NaN</td>\n",
       "      <td>it</td>\n",
       "      <td>...</td>\n",
       "      <td>NaN</td>\n",
       "      <td>NaN</td>\n",
       "      <td>[Live Long and Prosper]</td>\n",
       "      <td>NaN</td>\n",
       "      <td>NaN</td>\n",
       "      <td>Wed May 13 15:34:41 +0000 2009</td>\n",
       "      <td>2009-05-13 17:34:41</td>\n",
       "      <td>2014-05-13 23:21:54</td>\n",
       "      <td>2016-03-15 14:16:44</td>\n",
       "      <td>1</td>\n",
       "    </tr>\n",
       "    <tr>\n",
       "      <th>3</th>\n",
       "      <td>57007623</td>\n",
       "      <td>Rafiela Morales L.</td>\n",
       "      <td>RafielaMorales</td>\n",
       "      <td>7975</td>\n",
       "      <td>398</td>\n",
       "      <td>350</td>\n",
       "      <td>11</td>\n",
       "      <td>2</td>\n",
       "      <td>NaN</td>\n",
       "      <td>en</td>\n",
       "      <td>...</td>\n",
       "      <td>NaN</td>\n",
       "      <td>NaN</td>\n",
       "      <td>Cuasi Odontologa*♥,#Bipolar, #Sarcastica &amp; Som...</td>\n",
       "      <td>NaN</td>\n",
       "      <td>NaN</td>\n",
       "      <td>Wed Jul 15 12:55:03 +0000 2009</td>\n",
       "      <td>2009-07-15 14:55:03</td>\n",
       "      <td>2014-05-19 23:24:18</td>\n",
       "      <td>2016-03-15 14:18:54</td>\n",
       "      <td>1</td>\n",
       "    </tr>\n",
       "    <tr>\n",
       "      <th>4</th>\n",
       "      <td>63258466</td>\n",
       "      <td>§ h a † u r♄</td>\n",
       "      <td>FabrizioC_c</td>\n",
       "      <td>20218</td>\n",
       "      <td>413</td>\n",
       "      <td>405</td>\n",
       "      <td>162</td>\n",
       "      <td>8</td>\n",
       "      <td>http://t.co/PK5F0JDKcy</td>\n",
       "      <td>it</td>\n",
       "      <td>...</td>\n",
       "      <td>NaN</td>\n",
       "      <td>NaN</td>\n",
       "      <td>I shall rise from my own death, to avenge hers...</td>\n",
       "      <td>NaN</td>\n",
       "      <td>NaN</td>\n",
       "      <td>Wed Aug 05 21:12:49 +0000 2009</td>\n",
       "      <td>2009-08-05 23:12:49</td>\n",
       "      <td>2014-05-11 23:22:23</td>\n",
       "      <td>2016-03-15 14:17:05</td>\n",
       "      <td>1</td>\n",
       "    </tr>\n",
       "  </tbody>\n",
       "</table>\n",
       "<p>5 rows × 41 columns</p>\n",
       "</div>"
      ],
      "text/plain": [
       "         id                name     screen_name  statuses_count  \\\n",
       "0  24858289      Davide Bertoli       davideb66            1299   \n",
       "1  33212890      Elisa D'Ospina    ElisaDospina           18665   \n",
       "2  39773427     Donato Vincenzo      Vladimir65           22987   \n",
       "3  57007623  Rafiela Morales L.  RafielaMorales            7975   \n",
       "4  63258466        § h a † u r♄     FabrizioC_c           20218   \n",
       "\n",
       "   followers_count  friends_count  favourites_count  listed_count  \\\n",
       "0               22             40                 1             0   \n",
       "1            12561           3442             16358           110   \n",
       "2              600            755                14             6   \n",
       "3              398            350                11             2   \n",
       "4              413            405               162             8   \n",
       "\n",
       "                      url lang    ...     verified notifications  \\\n",
       "0                     NaN   it    ...          NaN           NaN   \n",
       "1  http://t.co/ceK8TovxwI   it    ...          NaN           NaN   \n",
       "2                     NaN   it    ...          NaN           NaN   \n",
       "3                     NaN   en    ...          NaN           NaN   \n",
       "4  http://t.co/PK5F0JDKcy   it    ...          NaN           NaN   \n",
       "\n",
       "                                         description  contributors_enabled  \\\n",
       "0                                                NaN                   NaN   \n",
       "1  Autrice del libro #unavitatuttacurve dal 9 apr...                   NaN   \n",
       "2                            [Live Long and Prosper]                   NaN   \n",
       "3  Cuasi Odontologa*♥,#Bipolar, #Sarcastica & Som...                   NaN   \n",
       "4  I shall rise from my own death, to avenge hers...                   NaN   \n",
       "\n",
       "   following                      created_at            timestamp  \\\n",
       "0        NaN  Tue Mar 17 08:51:12 +0000 2009  2009-03-17 09:51:12   \n",
       "1        NaN  Sun Apr 19 14:38:04 +0000 2009  2009-04-19 16:38:04   \n",
       "2        NaN  Wed May 13 15:34:41 +0000 2009  2009-05-13 17:34:41   \n",
       "3        NaN  Wed Jul 15 12:55:03 +0000 2009  2009-07-15 14:55:03   \n",
       "4        NaN  Wed Aug 05 21:12:49 +0000 2009  2009-08-05 23:12:49   \n",
       "\n",
       "            crawled_at              updated test_set_1  \n",
       "0  2014-04-19 14:46:19  2016-03-15 14:12:22          1  \n",
       "1  2014-05-18 23:20:58  2016-03-15 14:17:13          1  \n",
       "2  2014-05-13 23:21:54  2016-03-15 14:16:44          1  \n",
       "3  2014-05-19 23:24:18  2016-03-15 14:18:54          1  \n",
       "4  2014-05-11 23:22:23  2016-03-15 14:17:05          1  \n",
       "\n",
       "[5 rows x 41 columns]"
      ]
     },
     "execution_count": 12,
     "metadata": {},
     "output_type": "execute_result"
    }
   ],
   "source": [
    "social_spambots_1_users.head()"
   ]
  },
  {
   "cell_type": "code",
   "execution_count": 13,
   "metadata": {},
   "outputs": [],
   "source": [
    "social_spambots_1_users.rename(columns={'id': 'user_id'}, inplace=True)"
   ]
  },
  {
   "cell_type": "code",
   "execution_count": 14,
   "metadata": {},
   "outputs": [],
   "source": [
    "social_spambots_1_merged = pd.merge(social_spambots_1_users, social_spambots_1_tweets, on = 'user_id', how = 'outer')"
   ]
  },
  {
   "cell_type": "code",
   "execution_count": 15,
   "metadata": {},
   "outputs": [
    {
     "data": {
      "text/plain": [
       "(1610034, 65)"
      ]
     },
     "execution_count": 15,
     "metadata": {},
     "output_type": "execute_result"
    }
   ],
   "source": [
    "social_spambots_1_merged.shape"
   ]
  },
  {
   "cell_type": "code",
   "execution_count": 16,
   "metadata": {},
   "outputs": [
    {
     "data": {
      "text/plain": [
       "Index(['user_id', 'name', 'screen_name', 'statuses_count', 'followers_count',\n",
       "       'friends_count', 'favourites_count', 'listed_count', 'url', 'lang',\n",
       "       'time_zone', 'location', 'default_profile', 'default_profile_image',\n",
       "       'geo_enabled', 'profile_image_url', 'profile_banner_url',\n",
       "       'profile_use_background_image', 'profile_background_image_url_https',\n",
       "       'profile_text_color', 'profile_image_url_https',\n",
       "       'profile_sidebar_border_color', 'profile_background_tile',\n",
       "       'profile_sidebar_fill_color', 'profile_background_image_url',\n",
       "       'profile_background_color', 'profile_link_color', 'utc_offset',\n",
       "       'is_translator', 'follow_request_sent', 'protected', 'verified',\n",
       "       'notifications', 'description', 'contributors_enabled', 'following',\n",
       "       'created_at_x', 'timestamp_x', 'crawled_at_x', 'updated_x',\n",
       "       'test_set_1', 'id', 'text', 'source', 'truncated',\n",
       "       'in_reply_to_status_id', 'in_reply_to_user_id',\n",
       "       'in_reply_to_screen_name', 'retweeted_status_id', 'geo', 'place',\n",
       "       'contributors', 'retweet_count', 'reply_count', 'favorite_count',\n",
       "       'favorited', 'retweeted', 'possibly_sensitive', 'num_hashtags',\n",
       "       'num_urls', 'num_mentions', 'created_at_y', 'timestamp_y',\n",
       "       'crawled_at_y', 'updated_y'],\n",
       "      dtype='object')"
      ]
     },
     "execution_count": 16,
     "metadata": {},
     "output_type": "execute_result"
    }
   ],
   "source": [
    "social_spambots_1_merged.columns"
   ]
  },
  {
   "cell_type": "code",
   "execution_count": 17,
   "metadata": {},
   "outputs": [
    {
     "name": "stdout",
     "output_type": "stream",
     "text": [
      "a:  test_set_2\n"
     ]
    }
   ],
   "source": [
    "for a in genuine_accounts_merged.columns:\n",
    "    if a not in social_spambots_1_merged.columns:\n",
    "        print('a: ', a)\n",
    "for b in social_spambots_1_merged.columns:\n",
    "    if b not in genuine_accounts_merged.columns:\n",
    "        print('b: ', b)"
   ]
  },
  {
   "cell_type": "code",
   "execution_count": 18,
   "metadata": {},
   "outputs": [
    {
     "data": {
      "text/plain": [
       "0    2432627\n",
       "1     409125\n",
       "Name: test_set_2, dtype: int64"
      ]
     },
     "execution_count": 18,
     "metadata": {},
     "output_type": "execute_result"
    }
   ],
   "source": [
    "genuine_accounts_merged['test_set_2'].value_counts()"
   ]
  },
  {
   "cell_type": "code",
   "execution_count": 19,
   "metadata": {},
   "outputs": [
    {
     "data": {
      "text/plain": [
       "0    2052631\n",
       "1     789121\n",
       "Name: test_set_1, dtype: int64"
      ]
     },
     "execution_count": 19,
     "metadata": {},
     "output_type": "execute_result"
    }
   ],
   "source": [
    "genuine_accounts_merged['test_set_1'].value_counts()"
   ]
  },
  {
   "cell_type": "code",
   "execution_count": 20,
   "metadata": {},
   "outputs": [],
   "source": [
    "genuine_accounts_merged= genuine_accounts_merged.drop(columns=['test_set_1', 'test_set_2'])"
   ]
  },
  {
   "cell_type": "code",
   "execution_count": 21,
   "metadata": {},
   "outputs": [
    {
     "data": {
      "text/plain": [
       "(2841752, 64)"
      ]
     },
     "execution_count": 21,
     "metadata": {},
     "output_type": "execute_result"
    }
   ],
   "source": [
    "genuine_accounts_merged.shape"
   ]
  },
  {
   "cell_type": "code",
   "execution_count": 22,
   "metadata": {},
   "outputs": [
    {
     "data": {
      "text/plain": [
       "(1610034, 64)"
      ]
     },
     "execution_count": 22,
     "metadata": {},
     "output_type": "execute_result"
    }
   ],
   "source": [
    "social_spambots_1_merged = social_spambots_1_merged.drop(columns='test_set_1')\n",
    "social_spambots_1_merged.shape"
   ]
  },
  {
   "cell_type": "code",
   "execution_count": 23,
   "metadata": {},
   "outputs": [],
   "source": [
    "genuine_accounts_merged['label']=int(0)"
   ]
  },
  {
   "cell_type": "code",
   "execution_count": 24,
   "metadata": {},
   "outputs": [],
   "source": [
    "social_spambots_1_merged['label']=int(1)"
   ]
  },
  {
   "cell_type": "code",
   "execution_count": 25,
   "metadata": {},
   "outputs": [],
   "source": [
    "twitter_accounts_agg = pd.concat([genuine_accounts_merged, social_spambots_1_merged])"
   ]
  },
  {
   "cell_type": "code",
   "execution_count": 26,
   "metadata": {},
   "outputs": [
    {
     "data": {
      "text/plain": [
       "(4451786, 65)"
      ]
     },
     "execution_count": 26,
     "metadata": {},
     "output_type": "execute_result"
    }
   ],
   "source": [
    "twitter_accounts_agg.shape"
   ]
  },
  {
   "cell_type": "code",
   "execution_count": 28,
   "metadata": {},
   "outputs": [],
   "source": [
    "twitter_accounts_agg_truncated=twitter_accounts_agg.select_dtypes(['float64', 'int64'])"
   ]
  },
  {
   "cell_type": "code",
   "execution_count": 29,
   "metadata": {},
   "outputs": [
    {
     "data": {
      "text/plain": [
       "user_id                           int64\n",
       "statuses_count                    int64\n",
       "followers_count                   int64\n",
       "friends_count                     int64\n",
       "favourites_count                  int64\n",
       "listed_count                      int64\n",
       "default_profile                 float64\n",
       "default_profile_image           float64\n",
       "geo_enabled                     float64\n",
       "profile_use_background_image    float64\n",
       "profile_background_tile         float64\n",
       "utc_offset                      float64\n",
       "is_translator                   float64\n",
       "follow_request_sent             float64\n",
       "protected                       float64\n",
       "verified                        float64\n",
       "notifications                   float64\n",
       "contributors_enabled            float64\n",
       "following                       float64\n",
       "truncated                       float64\n",
       "in_reply_to_status_id           float64\n",
       "in_reply_to_user_id             float64\n",
       "retweeted_status_id             float64\n",
       "geo                             float64\n",
       "contributors                    float64\n",
       "retweet_count                   float64\n",
       "reply_count                     float64\n",
       "favorite_count                  float64\n",
       "favorited                       float64\n",
       "retweeted                       float64\n",
       "possibly_sensitive              float64\n",
       "num_hashtags                    float64\n",
       "num_urls                        float64\n",
       "num_mentions                    float64\n",
       "label                             int64\n",
       "dtype: object"
      ]
     },
     "execution_count": 29,
     "metadata": {},
     "output_type": "execute_result"
    }
   ],
   "source": [
    "twitter_accounts_agg_truncated.dtypes"
   ]
  },
  {
   "cell_type": "code",
   "execution_count": 30,
   "metadata": {},
   "outputs": [],
   "source": [
    "missing_value_check = twitter_accounts_agg_truncated.isnull().sum()"
   ]
  },
  {
   "cell_type": "code",
   "execution_count": 31,
   "metadata": {},
   "outputs": [
    {
     "data": {
      "text/plain": [
       "user_id                               0\n",
       "statuses_count                        0\n",
       "followers_count                       0\n",
       "friends_count                         0\n",
       "favourites_count                      0\n",
       "listed_count                          0\n",
       "default_profile                 3463988\n",
       "default_profile_image           4448765\n",
       "geo_enabled                     2479079\n",
       "profile_use_background_image     306891\n",
       "profile_background_tile         2802383\n",
       "utc_offset                       756600\n",
       "is_translator                   4451785\n",
       "follow_request_sent             4451786\n",
       "protected                       4451708\n",
       "verified                        4430620\n",
       "notifications                   4451786\n",
       "contributors_enabled            4451786\n",
       "following                       4451786\n",
       "truncated                       4451786\n",
       "in_reply_to_status_id              2391\n",
       "in_reply_to_user_id                2391\n",
       "retweeted_status_id                2391\n",
       "geo                             4451786\n",
       "contributors                    4451786\n",
       "retweet_count                      2391\n",
       "reply_count                        2391\n",
       "favorite_count                     2391\n",
       "favorited                       4451786\n",
       "retweeted                       4451786\n",
       "possibly_sensitive              4427938\n",
       "num_hashtags                       2391\n",
       "num_urls                           2391\n",
       "num_mentions                       2391\n",
       "label                                 0\n",
       "dtype: int64"
      ]
     },
     "execution_count": 31,
     "metadata": {},
     "output_type": "execute_result"
    }
   ],
   "source": [
    "missing_value_check"
   ]
  },
  {
   "cell_type": "code",
   "execution_count": 32,
   "metadata": {},
   "outputs": [],
   "source": [
    "twitter_accounts_agg_truncated_na = twitter_accounts_agg_truncated.drop(columns = ['default_profile', 'default_profile_image', \n",
    "                                                                                   'geo_enabled', 'profile_background_tile', 'is_translator', \n",
    "                                              'follow_request_sent', 'protected', 'verified', 'notifications',\n",
    "                                              'contributors_enabled', 'following', 'truncated', 'geo', 'contributors',\n",
    "                                              'favorited', 'retweeted', 'possibly_sensitive'])"
   ]
  },
  {
   "cell_type": "code",
   "execution_count": 33,
   "metadata": {},
   "outputs": [
    {
     "data": {
      "text/plain": [
       "(4451786, 18)"
      ]
     },
     "execution_count": 33,
     "metadata": {},
     "output_type": "execute_result"
    }
   ],
   "source": [
    "twitter_accounts_agg_truncated_na.shape"
   ]
  },
  {
   "cell_type": "code",
   "execution_count": 34,
   "metadata": {},
   "outputs": [
    {
     "data": {
      "text/plain": [
       "user_id                              0\n",
       "statuses_count                       0\n",
       "followers_count                      0\n",
       "friends_count                        0\n",
       "favourites_count                     0\n",
       "listed_count                         0\n",
       "profile_use_background_image    306891\n",
       "utc_offset                      756600\n",
       "in_reply_to_status_id             2391\n",
       "in_reply_to_user_id               2391\n",
       "retweeted_status_id               2391\n",
       "retweet_count                     2391\n",
       "reply_count                       2391\n",
       "favorite_count                    2391\n",
       "num_hashtags                      2391\n",
       "num_urls                          2391\n",
       "num_mentions                      2391\n",
       "label                                0\n",
       "dtype: int64"
      ]
     },
     "execution_count": 34,
     "metadata": {},
     "output_type": "execute_result"
    }
   ],
   "source": [
    "twitter_accounts_agg_truncated_na.isnull().sum()"
   ]
  },
  {
   "cell_type": "code",
   "execution_count": 35,
   "metadata": {},
   "outputs": [
    {
     "data": {
      "text/plain": [
       "1.0    4144895\n",
       "Name: profile_use_background_image, dtype: int64"
      ]
     },
     "execution_count": 35,
     "metadata": {},
     "output_type": "execute_result"
    }
   ],
   "source": [
    "twitter_accounts_agg_truncated_na['profile_use_background_image'].value_counts()"
   ]
  },
  {
   "cell_type": "code",
   "execution_count": 36,
   "metadata": {},
   "outputs": [],
   "source": [
    "twitter_accounts_agg_truncated_na['profile_use_background_image']= twitter_accounts_agg_truncated_na['profile_use_background_image'].fillna(1.0)"
   ]
  },
  {
   "cell_type": "code",
   "execution_count": 37,
   "metadata": {},
   "outputs": [
    {
     "data": {
      "text/plain": [
       "10800.0"
      ]
     },
     "execution_count": 37,
     "metadata": {},
     "output_type": "execute_result"
    }
   ],
   "source": [
    "twitter_accounts_agg_truncated_na['utc_offset'].median()"
   ]
  },
  {
   "cell_type": "code",
   "execution_count": 38,
   "metadata": {},
   "outputs": [],
   "source": [
    "twitter_accounts_agg_truncated_na['utc_offset']= twitter_accounts_agg_truncated_na['utc_offset'].fillna(10800)"
   ]
  },
  {
   "cell_type": "code",
   "execution_count": 39,
   "metadata": {},
   "outputs": [
    {
     "data": {
      "text/plain": [
       "0.000000e+00    3688874\n",
       "4.603590e+17         42\n",
       "5.391434e+17         37\n",
       "5.881290e+17         36\n",
       "5.258139e+17         30\n",
       "5.782912e+17         27\n",
       "5.904641e+17         27\n",
       "5.794507e+17         26\n",
       "5.616304e+17         26\n",
       "5.926712e+17         25\n",
       "5.728008e+17         25\n",
       "5.826227e+17         24\n",
       "5.746621e+17         23\n",
       "5.617476e+17         22\n",
       "5.881442e+17         22\n",
       "5.474576e+17         22\n",
       "5.845626e+17         22\n",
       "5.809321e+17         21\n",
       "5.804741e+17         20\n",
       "5.814492e+17         20\n",
       "5.762007e+17         19\n",
       "5.809581e+17         19\n",
       "5.937403e+17         19\n",
       "5.779120e+17         19\n",
       "3.845969e+17         18\n",
       "5.568407e+17         18\n",
       "5.326591e+17         17\n",
       "5.757670e+17         17\n",
       "5.568591e+17         17\n",
       "5.624351e+17         17\n",
       "                 ...   \n",
       "5.928550e+17          1\n",
       "4.188290e+17          1\n",
       "5.935425e+17          1\n",
       "5.930124e+17          1\n",
       "5.680372e+17          1\n",
       "5.684236e+17          1\n",
       "5.683686e+17          1\n",
       "5.683284e+17          1\n",
       "5.930314e+17          1\n",
       "5.939469e+17          1\n",
       "5.661256e+17          1\n",
       "5.931650e+17          1\n",
       "5.247502e+17          1\n",
       "4.886501e+17          1\n",
       "5.248150e+17          1\n",
       "5.928889e+17          1\n",
       "5.927025e+17          1\n",
       "5.693073e+17          1\n",
       "5.661370e+17          1\n",
       "5.938812e+17          1\n",
       "5.681749e+17          1\n",
       "5.932320e+17          1\n",
       "4.185997e+17          1\n",
       "5.556263e+17          1\n",
       "5.928215e+17          1\n",
       "5.928778e+17          1\n",
       "5.932095e+17          1\n",
       "5.927499e+17          1\n",
       "5.661661e+17          1\n",
       "5.881785e+17          1\n",
       "Name: in_reply_to_status_id, Length: 725610, dtype: int64"
      ]
     },
     "execution_count": 39,
     "metadata": {},
     "output_type": "execute_result"
    }
   ],
   "source": [
    "twitter_accounts_agg_truncated_na['in_reply_to_status_id'].value_counts()"
   ]
  },
  {
   "cell_type": "code",
   "execution_count": 40,
   "metadata": {},
   "outputs": [],
   "source": [
    "twitter_accounts_agg_truncated_na['in_reply_to_status_id']=twitter_accounts_agg_truncated_na['in_reply_to_status_id'].fillna(0.000000e+00)"
   ]
  },
  {
   "cell_type": "code",
   "execution_count": 41,
   "metadata": {},
   "outputs": [
    {
     "data": {
      "text/plain": [
       "0.0    3931573\n",
       "1.0     510239\n",
       "2.0       7111\n",
       "3.0        292\n",
       "4.0        164\n",
       "5.0         16\n",
       "Name: num_urls, dtype: int64"
      ]
     },
     "execution_count": 41,
     "metadata": {},
     "output_type": "execute_result"
    }
   ],
   "source": [
    "twitter_accounts_agg_truncated_na['num_urls'].value_counts()"
   ]
  },
  {
   "cell_type": "code",
   "execution_count": 42,
   "metadata": {},
   "outputs": [
    {
     "data": {
      "text/plain": [
       "0.0     3898653\n",
       "1.0      376456\n",
       "2.0      109443\n",
       "3.0       35864\n",
       "4.0       13543\n",
       "5.0        6266\n",
       "6.0        3686\n",
       "7.0        2111\n",
       "8.0        1299\n",
       "9.0         948\n",
       "10.0        576\n",
       "11.0        263\n",
       "12.0        120\n",
       "13.0         66\n",
       "14.0         43\n",
       "15.0         20\n",
       "16.0         15\n",
       "17.0          6\n",
       "18.0          4\n",
       "20.0          3\n",
       "28.0          2\n",
       "23.0          2\n",
       "25.0          1\n",
       "19.0          1\n",
       "21.0          1\n",
       "22.0          1\n",
       "24.0          1\n",
       "27.0          1\n",
       "Name: num_hashtags, dtype: int64"
      ]
     },
     "execution_count": 42,
     "metadata": {},
     "output_type": "execute_result"
    }
   ],
   "source": [
    "twitter_accounts_agg_truncated_na['num_hashtags'].value_counts()"
   ]
  },
  {
   "cell_type": "code",
   "execution_count": 43,
   "metadata": {},
   "outputs": [
    {
     "data": {
      "text/plain": [
       "0.0     2721812\n",
       "1.0     1373510\n",
       "2.0      254613\n",
       "3.0       61903\n",
       "4.0       19570\n",
       "5.0        8102\n",
       "6.0        4213\n",
       "7.0        2508\n",
       "8.0        1459\n",
       "9.0         879\n",
       "10.0        596\n",
       "11.0        196\n",
       "12.0         28\n",
       "13.0          4\n",
       "19.0          1\n",
       "17.0          1\n",
       "Name: num_mentions, dtype: int64"
      ]
     },
     "execution_count": 43,
     "metadata": {},
     "output_type": "execute_result"
    }
   ],
   "source": [
    "twitter_accounts_agg_truncated_na['num_mentions'].value_counts()"
   ]
  },
  {
   "cell_type": "code",
   "execution_count": 44,
   "metadata": {},
   "outputs": [
    {
     "data": {
      "text/plain": [
       "0.0"
      ]
     },
     "execution_count": 44,
     "metadata": {},
     "output_type": "execute_result"
    }
   ],
   "source": [
    "twitter_accounts_agg_truncated_na['num_mentions'].median()"
   ]
  },
  {
   "cell_type": "code",
   "execution_count": 45,
   "metadata": {},
   "outputs": [
    {
     "data": {
      "text/plain": [
       "0.000000e+00    3673784\n",
       "4.999890e+17        309\n",
       "4.339917e+17        261\n",
       "5.238872e+17        197\n",
       "5.232453e+17        193\n",
       "5.069290e+17        192\n",
       "5.039071e+17        184\n",
       "5.035335e+17        173\n",
       "5.035298e+17        154\n",
       "5.035231e+17        150\n",
       "4.359009e+17        142\n",
       "5.036712e+17        140\n",
       "5.035290e+17        139\n",
       "5.039087e+17        133\n",
       "5.035237e+17        117\n",
       "5.036300e+17        113\n",
       "4.341260e+17        109\n",
       "4.357946e+17        107\n",
       "3.803507e+17        107\n",
       "3.825890e+17        106\n",
       "5.036767e+17        105\n",
       "3.974551e+17        103\n",
       "3.940700e+17        103\n",
       "3.954662e+17        103\n",
       "5.036303e+17        100\n",
       "5.035020e+17         99\n",
       "5.001752e+17         97\n",
       "4.433288e+17         97\n",
       "5.324654e+17         95\n",
       "3.954551e+17         95\n",
       "                 ...   \n",
       "5.728127e+17          1\n",
       "5.306603e+17          1\n",
       "5.851248e+17          1\n",
       "5.728013e+17          1\n",
       "5.848555e+17          1\n",
       "5.050803e+17          1\n",
       "5.734802e+17          1\n",
       "5.722837e+17          1\n",
       "5.721484e+17          1\n",
       "5.735975e+17          1\n",
       "5.720508e+17          1\n",
       "5.833351e+17          1\n",
       "4.887752e+17          1\n",
       "5.729330e+17          1\n",
       "5.729226e+17          1\n",
       "5.840536e+17          1\n",
       "3.504786e+17          1\n",
       "5.721682e+17          1\n",
       "5.814560e+17          1\n",
       "5.735041e+17          1\n",
       "5.729366e+17          1\n",
       "5.610707e+17          1\n",
       "5.734549e+17          1\n",
       "5.612093e+17          1\n",
       "5.610299e+17          1\n",
       "5.408942e+17          1\n",
       "5.851328e+17          1\n",
       "5.851644e+17          1\n",
       "5.841810e+17          1\n",
       "4.600360e+17          1\n",
       "Name: retweeted_status_id, Length: 728999, dtype: int64"
      ]
     },
     "execution_count": 45,
     "metadata": {},
     "output_type": "execute_result"
    }
   ],
   "source": [
    "twitter_accounts_agg_truncated_na['retweeted_status_id'].value_counts()"
   ]
  },
  {
   "cell_type": "code",
   "execution_count": 46,
   "metadata": {},
   "outputs": [
    {
     "data": {
      "text/plain": [
       "0.0         3064326\n",
       "1.0          487633\n",
       "2.0          159561\n",
       "3.0           79115\n",
       "4.0           47018\n",
       "5.0           31578\n",
       "6.0           23308\n",
       "7.0           17837\n",
       "8.0           14573\n",
       "9.0           12139\n",
       "10.0          10456\n",
       "11.0           9075\n",
       "12.0           8112\n",
       "13.0           7272\n",
       "14.0           6565\n",
       "15.0           5913\n",
       "16.0           5498\n",
       "17.0           5178\n",
       "18.0           4845\n",
       "19.0           4568\n",
       "20.0           4453\n",
       "21.0           3990\n",
       "22.0           3885\n",
       "23.0           3607\n",
       "24.0           3408\n",
       "25.0           3195\n",
       "26.0           3141\n",
       "29.0           2944\n",
       "27.0           2941\n",
       "28.0           2797\n",
       "             ...   \n",
       "26715.0           1\n",
       "7759.0            1\n",
       "26717.0           1\n",
       "26606.0           1\n",
       "26602.0           1\n",
       "26600.0           1\n",
       "26551.0           1\n",
       "26526.0           1\n",
       "26531.0           1\n",
       "26532.0           1\n",
       "7837.0            1\n",
       "26535.0           1\n",
       "26547.0           1\n",
       "7830.0            1\n",
       "26550.0           1\n",
       "7828.0            1\n",
       "7827.0            1\n",
       "26552.0           1\n",
       "7809.0            1\n",
       "26553.0           1\n",
       "7821.0            1\n",
       "26554.0           1\n",
       "26555.0           1\n",
       "26569.0           1\n",
       "26586.0           1\n",
       "26587.0           1\n",
       "7812.0            1\n",
       "26589.0           1\n",
       "7810.0            1\n",
       "131065.0          1\n",
       "Name: retweet_count, Length: 29012, dtype: int64"
      ]
     },
     "execution_count": 46,
     "metadata": {},
     "output_type": "execute_result"
    }
   ],
   "source": [
    "twitter_accounts_agg_truncated_na['retweet_count'].value_counts()"
   ]
  },
  {
   "cell_type": "code",
   "execution_count": 47,
   "metadata": {},
   "outputs": [
    {
     "data": {
      "text/plain": [
       "0.0    4449395\n",
       "Name: reply_count, dtype: int64"
      ]
     },
     "execution_count": 47,
     "metadata": {},
     "output_type": "execute_result"
    }
   ],
   "source": [
    "twitter_accounts_agg_truncated_na['reply_count'].value_counts()"
   ]
  },
  {
   "cell_type": "code",
   "execution_count": 48,
   "metadata": {},
   "outputs": [
    {
     "data": {
      "text/plain": [
       " 0.0       3269588\n",
       " 1.0        656687\n",
       " 2.0        218704\n",
       " 3.0        104732\n",
       " 4.0         58527\n",
       " 5.0         36524\n",
       " 6.0         23974\n",
       " 7.0         16308\n",
       " 8.0         11704\n",
       " 9.0          8520\n",
       " 10.0         6421\n",
       " 11.0         4796\n",
       " 12.0         3855\n",
       " 13.0         3067\n",
       " 14.0         2644\n",
       " 15.0         2161\n",
       " 16.0         1846\n",
       " 17.0         1542\n",
       " 18.0         1317\n",
       " 19.0         1174\n",
       " 20.0         1002\n",
       " 21.0          932\n",
       " 22.0          785\n",
       " 23.0          753\n",
       " 24.0          721\n",
       " 26.0          563\n",
       " 25.0          559\n",
       " 27.0          485\n",
       " 28.0          458\n",
       " 29.0          394\n",
       "            ...   \n",
       " 2868.0          1\n",
       " 4278.0          1\n",
       " 158.0           1\n",
       " 238.0           1\n",
       "-1.0             1\n",
       " 242.0           1\n",
       " 288.0           1\n",
       " 350.0           1\n",
       " 346.0           1\n",
       " 343.0           1\n",
       " 341.0           1\n",
       " 339.0           1\n",
       " 335.0           1\n",
       " 333.0           1\n",
       " 324.0           1\n",
       " 312.0           1\n",
       " 308.0           1\n",
       " 287.0           1\n",
       " 244.0           1\n",
       " 286.0           1\n",
       " 281.0           1\n",
       " 278.0           1\n",
       " 269.0           1\n",
       " 268.0           1\n",
       " 258.0           1\n",
       " 256.0           1\n",
       " 253.0           1\n",
       " 251.0           1\n",
       " 247.0           1\n",
       " 3188.0          1\n",
       "Name: favorite_count, Length: 313, dtype: int64"
      ]
     },
     "execution_count": 48,
     "metadata": {},
     "output_type": "execute_result"
    }
   ],
   "source": [
    "twitter_accounts_agg_truncated_na['favorite_count'].value_counts()"
   ]
  },
  {
   "cell_type": "code",
   "execution_count": 49,
   "metadata": {},
   "outputs": [],
   "source": [
    "twitter_accounts_agg_truncated_na['in_reply_to_user_id']=twitter_accounts_agg_truncated_na['in_reply_to_user_id'].fillna(0)\n",
    "twitter_accounts_agg_truncated_na['retweeted_status_id']=twitter_accounts_agg_truncated_na['retweeted_status_id'].fillna(0)\n",
    "twitter_accounts_agg_truncated_na['retweet_count']=twitter_accounts_agg_truncated_na['retweet_count'].fillna(0)\n",
    "twitter_accounts_agg_truncated_na['reply_count']=twitter_accounts_agg_truncated_na['reply_count'].fillna(0)\n",
    "twitter_accounts_agg_truncated_na['favorite_count']=twitter_accounts_agg_truncated_na['favorite_count'].fillna(0)\n",
    "twitter_accounts_agg_truncated_na['num_hashtags']=twitter_accounts_agg_truncated_na['num_hashtags'].fillna(0)\n",
    "twitter_accounts_agg_truncated_na['num_urls']=twitter_accounts_agg_truncated_na['num_urls'].fillna(0)\n",
    "twitter_accounts_agg_truncated_na['num_mentions']=twitter_accounts_agg_truncated_na['num_mentions'].fillna(0)"
   ]
  },
  {
   "cell_type": "code",
   "execution_count": 50,
   "metadata": {},
   "outputs": [
    {
     "data": {
      "text/plain": [
       "user_id                         0\n",
       "statuses_count                  0\n",
       "followers_count                 0\n",
       "friends_count                   0\n",
       "favourites_count                0\n",
       "listed_count                    0\n",
       "profile_use_background_image    0\n",
       "utc_offset                      0\n",
       "in_reply_to_status_id           0\n",
       "in_reply_to_user_id             0\n",
       "retweeted_status_id             0\n",
       "retweet_count                   0\n",
       "reply_count                     0\n",
       "favorite_count                  0\n",
       "num_hashtags                    0\n",
       "num_urls                        0\n",
       "num_mentions                    0\n",
       "label                           0\n",
       "dtype: int64"
      ]
     },
     "execution_count": 50,
     "metadata": {},
     "output_type": "execute_result"
    }
   ],
   "source": [
    "twitter_accounts_agg_truncated_na.isnull().sum()"
   ]
  },
  {
   "cell_type": "code",
   "execution_count": 51,
   "metadata": {},
   "outputs": [],
   "source": [
    "from sklearn.utils import shuffle\n",
    "twitter_accounts_agg_truncated_na=shuffle(twitter_accounts_agg_truncated_na)"
   ]
  },
  {
   "cell_type": "code",
   "execution_count": 52,
   "metadata": {},
   "outputs": [],
   "source": [
    "X = twitter_accounts_agg_truncated_na.iloc[:,0:17]\n",
    "y = twitter_accounts_agg_truncated_na['label']"
   ]
  },
  {
   "cell_type": "code",
   "execution_count": 53,
   "metadata": {},
   "outputs": [],
   "source": [
    "# build train and test set\n",
    "from sklearn.model_selection import train_test_split\n",
    "\n",
    "X_train, X_test, y_train, y_test = train_test_split(X, y, test_size=0.3, random_state=0)"
   ]
  },
  {
   "cell_type": "code",
   "execution_count": 54,
   "metadata": {},
   "outputs": [
    {
     "name": "stderr",
     "output_type": "stream",
     "text": [
      "/Users/xinchunli/anaconda3/lib/python3.6/site-packages/sklearn/preprocessing/data.py:625: DataConversionWarning: Data with input dtype int64, float64 were all converted to float64 by StandardScaler.\n",
      "  return self.partial_fit(X, y)\n",
      "/Users/xinchunli/anaconda3/lib/python3.6/site-packages/ipykernel_launcher.py:3: DataConversionWarning: Data with input dtype int64, float64 were all converted to float64 by StandardScaler.\n",
      "  This is separate from the ipykernel package so we can avoid doing imports until\n",
      "/Users/xinchunli/anaconda3/lib/python3.6/site-packages/ipykernel_launcher.py:4: DataConversionWarning: Data with input dtype int64, float64 were all converted to float64 by StandardScaler.\n",
      "  after removing the cwd from sys.path.\n"
     ]
    }
   ],
   "source": [
    "from sklearn import preprocessing\n",
    "scaler = preprocessing.StandardScaler().fit(X_train)\n",
    "X_train_transformed = scaler.transform(X_train)\n",
    "X_test_transformed = scaler.transform(X_test)"
   ]
  },
  {
   "cell_type": "markdown",
   "metadata": {},
   "source": [
    "# Baseline Models:"
   ]
  },
  {
   "cell_type": "markdown",
   "metadata": {},
   "source": [
    "## Logistic Regression Classifier"
   ]
  },
  {
   "cell_type": "code",
   "execution_count": 55,
   "metadata": {},
   "outputs": [
    {
     "name": "stdout",
     "output_type": "stream",
     "text": [
      "LG model test set accuracy score:  [0.92953786 0.92810372 0.92824598 0.9294178  0.92913327]\n",
      "LG model test set recall score:  [0.93983001 0.93728324 0.93841169 0.93933308 0.93730395]\n",
      "LG model test set precision score:  [0.87466037 0.87320724 0.87274338 0.87473729 0.87551494]\n",
      "LG model test set f1 score:  [0.92484819 0.92330202 0.92348127 0.92471063 0.92435927]\n",
      "LG model test set AUC score:  [0.96806444 0.96735369 0.96689305 0.96720093 0.96731513]\n"
     ]
    }
   ],
   "source": [
    "# build a logistic regression\n",
    "import warnings\n",
    "warnings.filterwarnings('ignore')\n",
    "from sklearn.linear_model import LogisticRegression\n",
    "from sklearn.model_selection import cross_val_score\n",
    "lr_model = LogisticRegression(random_state=0).fit(X_train_transformed, y_train)\n",
    "lr_accuracy = cross_val_score(lr_model, X_test_transformed, y_test, scoring='accuracy', cv=5)\n",
    "lr_recall = cross_val_score(lr_model, X_test_transformed, y_test, scoring='recall', cv=5)\n",
    "lr_precision = cross_val_score(lr_model, X_test_transformed, y_test, scoring='precision', cv=5)\n",
    "lr_f1 = cross_val_score(lr_model, X_test_transformed, y_test, scoring='f1_macro', cv=5)\n",
    "lr_roc_auc = cross_val_score(lr_model, X_test_transformed, y_test, scoring='roc_auc', cv=5)\n",
    "print('LG model test set accuracy score: ', lr_accuracy)\n",
    "print('LG model test set recall score: ', lr_recall)\n",
    "print('LG model test set precision score: ', lr_precision)\n",
    "print('LG model test set f1 score: ', lr_f1)\n",
    "print('LG model test set AUC score: ', lr_roc_auc)"
   ]
  },
  {
   "cell_type": "markdown",
   "metadata": {},
   "source": [
    "## Decision Tree Classifier"
   ]
  },
  {
   "cell_type": "code",
   "execution_count": 56,
   "metadata": {},
   "outputs": [
    {
     "name": "stdout",
     "output_type": "stream",
     "text": [
      "DT model test set accuracy score:  [0.97718151 0.97701296 0.97674715 0.97696803 0.97687069]\n",
      "DT model test set recall score:  [0.94541012 0.94468543 0.94422991 0.94487178 0.9441678 ]\n",
      "DT model test set precision score:  [0.99107899 0.99134138 0.9910464  0.99102014 0.991466  ]\n",
      "DT model test set f1 score:  [0.97503199 0.97484184 0.97454989 0.97479559 0.97468236]\n",
      "DT model test set AUC score:  [0.98391419 0.98360554 0.98332342 0.9835974  0.98349399]\n"
     ]
    }
   ],
   "source": [
    "## Build and train the classifier\n",
    "import sklearn as sk\n",
    "import sklearn.tree as sktree\n",
    "from sklearn.tree import DecisionTreeClassifier\n",
    "dt_model = sktree.DecisionTreeClassifier(max_depth=2,criterion='entropy').fit(X_train_transformed, y_train)\n",
    "dt_accuracy = cross_val_score(dt_model, X_test_transformed, y_test, scoring='accuracy', cv=5)\n",
    "dt_recall = cross_val_score(dt_model, X_test_transformed, y_test, scoring='recall', cv=5)\n",
    "dt_precision = cross_val_score(dt_model, X_test_transformed, y_test, scoring='precision', cv=5)\n",
    "dt_f1 = cross_val_score(dt_model, X_test_transformed, y_test, scoring='f1_macro', cv=5)\n",
    "dt_roc_auc = cross_val_score(dt_model, X_test_transformed, y_test, scoring='roc_auc', cv=5)\n",
    "print('DT model test set accuracy score: ', dt_accuracy)\n",
    "print('DT model test set recall score: ', dt_recall)\n",
    "print('DT model test set precision score: ', dt_precision)\n",
    "print('DT model test set f1 score: ', dt_f1)\n",
    "print('DT model test set AUC score: ', dt_roc_auc)"
   ]
  },
  {
   "cell_type": "markdown",
   "metadata": {},
   "source": [
    "## Naive Bayes Classifier"
   ]
  },
  {
   "cell_type": "code",
   "execution_count": 57,
   "metadata": {},
   "outputs": [
    {
     "name": "stdout",
     "output_type": "stream",
     "text": [
      "NB model test set accuracy score:  [0.91756518 0.91622084 0.91618715 0.91709315 0.91720172]\n",
      "NB model test set recall score:  [0.94410568 0.94256313 0.94239748 0.94354663 0.94210761]\n",
      "NB model test set precision score:  [0.84584562 0.8439861  0.84401773 0.84520365 0.84632411]\n",
      "NB model test set f1 score:  [0.91275788 0.91134532 0.91130588 0.91226138 0.91232611]\n",
      "NB model test set AUC score:  [0.96465988 0.96416887 0.96403665 0.96426003 0.96430777]\n"
     ]
    }
   ],
   "source": [
    "from sklearn.naive_bayes import BernoulliNB\n",
    "clf_model = BernoulliNB().fit(X_train, y_train)\n",
    "clf_accuracy = cross_val_score(clf_model, X_test_transformed, y_test, scoring='accuracy', cv=5)\n",
    "clf_recall = cross_val_score(clf_model, X_test_transformed, y_test, scoring='recall', cv=5)\n",
    "clf_precision = cross_val_score(clf_model, X_test_transformed, y_test, scoring='precision', cv=5)\n",
    "clf_f1 = cross_val_score(clf_model, X_test_transformed, y_test, scoring='f1_macro', cv=5)\n",
    "clf_roc_auc = cross_val_score(clf_model, X_test_transformed, y_test, scoring='roc_auc', cv=5)\n",
    "print('NB model test set accuracy score: ', clf_accuracy)\n",
    "print('NB model test set recall score: ', clf_recall)\n",
    "print('NB model test set precision score: ', clf_precision)\n",
    "print('NB model test set f1 score: ', clf_f1)\n",
    "print('NB model test set AUC score: ', clf_roc_auc)"
   ]
  },
  {
   "cell_type": "markdown",
   "metadata": {},
   "source": [
    "## Support Vector Machine Classifier"
   ]
  },
  {
   "cell_type": "code",
   "execution_count": 58,
   "metadata": {},
   "outputs": [
    {
     "name": "stdout",
     "output_type": "stream",
     "text": [
      "SVC model test set accuracy score:  [0.77847537 0.62392974 0.6450561  0.74923907 0.4393333 ]\n",
      "SVC model test set recall score:  [0.58270268 0.73990869 0.18964107 0.50174443 0.0112534 ]\n",
      "SVC model test set precision score:  [0.74898866 0.48685949 0.52560902 0.71995187 0.01964257]\n",
      "SVC model test set f1 score:  [0.74611107 0.62094147 0.52166476 0.70524135 0.31128079]\n",
      "SVC model test set AUC score:  [0.83796483 0.62552223 0.81395654 0.82205733 0.26485483]\n"
     ]
    }
   ],
   "source": [
    "from sklearn.svm import SVC\n",
    "\n",
    "svc_model = SVC(kernel='rbf', C=1, random_state=0, max_iter=5)\n",
    "svc_accuracy = cross_val_score(svc_model, X_test_transformed, y_test, scoring='accuracy', cv=5)\n",
    "svc_recall = cross_val_score(svc_model, X_test_transformed, y_test, scoring='recall', cv=5)\n",
    "svc_precision = cross_val_score(svc_model, X_test_transformed, y_test, scoring='precision', cv=5)\n",
    "svc_f1 = cross_val_score(svc_model, X_test_transformed, y_test, scoring='f1_macro', cv=5)\n",
    "svc_roc_auc = cross_val_score(svc_model, X_test_transformed, y_test, scoring='roc_auc', cv=5)\n",
    "print('SVC model test set accuracy score: ', svc_accuracy)\n",
    "print('SVC model test set recall score: ', svc_recall)\n",
    "print('SVC model test set precision score: ', svc_precision)\n",
    "print('SVC model test set f1 score: ', svc_f1)\n",
    "print('SVC model test set AUC score: ', svc_roc_auc)"
   ]
  },
  {
   "cell_type": "code",
   "execution_count": null,
   "metadata": {},
   "outputs": [],
   "source": []
  }
 ],
 "metadata": {
  "kernelspec": {
   "display_name": "Python 3",
   "language": "python",
   "name": "python3"
  },
  "language_info": {
   "codemirror_mode": {
    "name": "ipython",
    "version": 3
   },
   "file_extension": ".py",
   "mimetype": "text/x-python",
   "name": "python",
   "nbconvert_exporter": "python",
   "pygments_lexer": "ipython3",
   "version": "3.6.7"
  }
 },
 "nbformat": 4,
 "nbformat_minor": 2
}
