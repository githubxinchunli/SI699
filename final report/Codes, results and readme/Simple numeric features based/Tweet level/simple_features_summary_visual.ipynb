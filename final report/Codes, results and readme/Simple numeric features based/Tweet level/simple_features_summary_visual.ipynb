{
 "cells": [
  {
   "cell_type": "code",
   "execution_count": 1,
   "metadata": {},
   "outputs": [],
   "source": [
    "import pandas as pd\n",
    "simple_methods=pd.read_csv('simplemethodsresults.csv')"
   ]
  },
  {
   "cell_type": "markdown",
   "metadata": {},
   "source": [
    "## No adding"
   ]
  },
  {
   "cell_type": "code",
   "execution_count": 76,
   "metadata": {},
   "outputs": [],
   "source": [
    "simple_methods_svm_no=simple_methods.iloc[0:5]\n",
    "simple_methods_svm_no.index=['SVM', 'G+S2', 'G+S3', 'G+T1', 'G+F']\n",
    "simple_methods_svm_no.columns=['SVM', 'G+S2', 'G+S3', 'G+T1', 'G+F']\n",
    "simple_methods_svm_no=simple_methods_svm_no.iloc[1:,1: ]"
   ]
  },
  {
   "cell_type": "code",
   "execution_count": 77,
   "metadata": {},
   "outputs": [],
   "source": [
    "simple_methods_svm_no=simple_methods_svm_no.values.astype(float)"
   ]
  },
  {
   "cell_type": "code",
   "execution_count": 17,
   "metadata": {},
   "outputs": [],
   "source": [
    "simple_methods_rf_no=simple_methods.iloc[7:12]\n",
    "simple_methods_rf_no.index=['SVM', 'G+S2', 'G+S3', 'G+T1', 'G+F']\n",
    "simple_methods_rf_no.columns=['SVM', 'G+S2', 'G+S3', 'G+T1', 'G+F']\n",
    "simple_methods_rf_no=simple_methods_rf_no.iloc[1:,1: ]"
   ]
  },
  {
   "cell_type": "code",
   "execution_count": 18,
   "metadata": {},
   "outputs": [],
   "source": [
    "simple_methods_rf_no=simple_methods_rf_no.values.astype(float)"
   ]
  },
  {
   "cell_type": "code",
   "execution_count": 19,
   "metadata": {},
   "outputs": [],
   "source": [
    "simple_methods_gdb_no=simple_methods.iloc[13:18]\n",
    "simple_methods_gdb_no.index=['SVM', 'G+S2', 'G+S3', 'G+T1', 'G+F']\n",
    "simple_methods_gdb_no.columns=['SVM', 'G+S2', 'G+S3', 'G+T1', 'G+F']\n",
    "simple_methods_gdb_no=simple_methods_gdb_no.iloc[1:,1: ]"
   ]
  },
  {
   "cell_type": "code",
   "execution_count": 20,
   "metadata": {},
   "outputs": [],
   "source": [
    "simple_methods_gdb_no=simple_methods_gdb_no.values.astype(float)"
   ]
  },
  {
   "cell_type": "code",
   "execution_count": 21,
   "metadata": {},
   "outputs": [],
   "source": [
    "simple_methods_lr_no=simple_methods.iloc[19:24]\n",
    "simple_methods_lr_no.index=['SVM', 'G+S2', 'G+S3', 'G+T1', 'G+F']\n",
    "simple_methods_lr_no.columns=['SVM', 'G+S2', 'G+S3', 'G+T1', 'G+F']\n",
    "simple_methods_lr_no=simple_methods_lr_no.iloc[1:,1: ]"
   ]
  },
  {
   "cell_type": "code",
   "execution_count": 22,
   "metadata": {},
   "outputs": [],
   "source": [
    "simple_methods_lr_no=simple_methods_lr_no.values.astype(float)"
   ]
  },
  {
   "cell_type": "markdown",
   "metadata": {},
   "source": [
    "## Add 10000"
   ]
  },
  {
   "cell_type": "code",
   "execution_count": 23,
   "metadata": {},
   "outputs": [],
   "source": [
    "simple_methods_svm_add1=simple_methods.iloc[26:31]\n",
    "simple_methods_svm_add1.index=['SVM', 'G+S2', 'G+S3', 'G+T1', 'G+F']\n",
    "simple_methods_svm_add1.columns=['SVM', 'G+S2', 'G+S3', 'G+T1', 'G+F']\n",
    "simple_methods_svm_add1=simple_methods_svm_add1.iloc[1:,1: ]"
   ]
  },
  {
   "cell_type": "code",
   "execution_count": 24,
   "metadata": {},
   "outputs": [],
   "source": [
    "simple_methods_svm_add1=simple_methods_svm_add1.values.astype(float)"
   ]
  },
  {
   "cell_type": "code",
   "execution_count": 25,
   "metadata": {},
   "outputs": [],
   "source": [
    "simple_methods_rf_add1=simple_methods.iloc[33:38]\n",
    "simple_methods_rf_add1.index=['SVM', 'G+S2', 'G+S3', 'G+T1', 'G+F']\n",
    "simple_methods_rf_add1.columns=['SVM', 'G+S2', 'G+S3', 'G+T1', 'G+F']\n",
    "simple_methods_rf_add1=simple_methods_rf_add1.iloc[1:,1: ]"
   ]
  },
  {
   "cell_type": "code",
   "execution_count": 26,
   "metadata": {},
   "outputs": [],
   "source": [
    "simple_methods_rf_add1=simple_methods_rf_add1.values.astype(float)"
   ]
  },
  {
   "cell_type": "code",
   "execution_count": 27,
   "metadata": {},
   "outputs": [],
   "source": [
    "simple_methods_gdb_add1=simple_methods.iloc[39:44]\n",
    "simple_methods_gdb_add1.index=['SVM', 'G+S2', 'G+S3', 'G+T1', 'G+F']\n",
    "simple_methods_gdb_add1.columns=['SVM', 'G+S2', 'G+S3', 'G+T1', 'G+F']\n",
    "simple_methods_gdb_add1=simple_methods_gdb_add1.iloc[1:,1: ]"
   ]
  },
  {
   "cell_type": "code",
   "execution_count": 28,
   "metadata": {},
   "outputs": [],
   "source": [
    "simple_methods_gdb_add1=simple_methods_gdb_add1.values.astype(float)"
   ]
  },
  {
   "cell_type": "code",
   "execution_count": 29,
   "metadata": {},
   "outputs": [],
   "source": [
    "simple_methods_lr_add1=simple_methods.iloc[45:50]\n",
    "simple_methods_lr_add1.index=['SVM', 'G+S2', 'G+S3', 'G+T1', 'G+F']\n",
    "simple_methods_lr_add1.columns=['SVM', 'G+S2', 'G+S3', 'G+T1', 'G+F']\n",
    "simple_methods_lr_add1=simple_methods_lr_add1.iloc[1:,1: ]"
   ]
  },
  {
   "cell_type": "code",
   "execution_count": 30,
   "metadata": {},
   "outputs": [],
   "source": [
    "simple_methods_lr_add1=simple_methods_lr_add1.values.astype(float)"
   ]
  },
  {
   "cell_type": "markdown",
   "metadata": {},
   "source": [
    "## Add 20000"
   ]
  },
  {
   "cell_type": "code",
   "execution_count": 31,
   "metadata": {},
   "outputs": [],
   "source": [
    "simple_methods_svm_add2=simple_methods.iloc[52:57]\n",
    "simple_methods_svm_add2.index=['SVM', 'G+S2', 'G+S3', 'G+T1', 'G+F']\n",
    "simple_methods_svm_add2.columns=['SVM', 'G+S2', 'G+S3', 'G+T1', 'G+F']\n",
    "simple_methods_svm_add2=simple_methods_svm_add2.iloc[1:,1: ]"
   ]
  },
  {
   "cell_type": "code",
   "execution_count": 32,
   "metadata": {},
   "outputs": [],
   "source": [
    "simple_methods_svm_add2=simple_methods_svm_add2.values.astype(float)"
   ]
  },
  {
   "cell_type": "code",
   "execution_count": 33,
   "metadata": {},
   "outputs": [],
   "source": [
    "simple_methods_rf_add2=simple_methods.iloc[59:64]\n",
    "simple_methods_rf_add2.index=['SVM', 'G+S2', 'G+S3', 'G+T1', 'G+F']\n",
    "simple_methods_rf_add2.columns=['SVM', 'G+S2', 'G+S3', 'G+T1', 'G+F']\n",
    "simple_methods_rf_add2=simple_methods_rf_add2.iloc[1:,1: ]"
   ]
  },
  {
   "cell_type": "code",
   "execution_count": 34,
   "metadata": {},
   "outputs": [],
   "source": [
    "simple_methods_rf_add2=simple_methods_rf_add2.values.astype(float)"
   ]
  },
  {
   "cell_type": "code",
   "execution_count": 35,
   "metadata": {},
   "outputs": [],
   "source": [
    "simple_methods_gdb_add2=simple_methods.iloc[65:70]\n",
    "simple_methods_gdb_add2.index=['SVM', 'G+S2', 'G+S3', 'G+T1', 'G+F']\n",
    "simple_methods_gdb_add2.columns=['SVM', 'G+S2', 'G+S3', 'G+T1', 'G+F']\n",
    "simple_methods_gdb_add2=simple_methods_gdb_add2.iloc[1:,1: ]"
   ]
  },
  {
   "cell_type": "code",
   "execution_count": 36,
   "metadata": {},
   "outputs": [],
   "source": [
    "simple_methods_gdb_add2=simple_methods_gdb_add2.values.astype(float)"
   ]
  },
  {
   "cell_type": "code",
   "execution_count": 37,
   "metadata": {},
   "outputs": [],
   "source": [
    "simple_methods_lr_add2=simple_methods.iloc[71:76]\n",
    "simple_methods_lr_add2.index=['SVM', 'G+S2', 'G+S3', 'G+T1', 'G+F']\n",
    "simple_methods_lr_add2.columns=['SVM', 'G+S2', 'G+S3', 'G+T1', 'G+F']\n",
    "simple_methods_lr_add2=simple_methods_lr_add2.iloc[1:,1: ]"
   ]
  },
  {
   "cell_type": "code",
   "execution_count": 38,
   "metadata": {},
   "outputs": [],
   "source": [
    "simple_methods_lr_add2=simple_methods_lr_add2.values.astype(float)"
   ]
  },
  {
   "cell_type": "markdown",
   "metadata": {},
   "source": [
    "## Add 30000"
   ]
  },
  {
   "cell_type": "code",
   "execution_count": 39,
   "metadata": {},
   "outputs": [],
   "source": [
    "simple_methods_svm_add3=simple_methods.iloc[78:83]\n",
    "simple_methods_svm_add3.index=['SVM', 'G+S2', 'G+S3', 'G+T1', 'G+F']\n",
    "simple_methods_svm_add3.columns=['SVM', 'G+S2', 'G+S3', 'G+T1', 'G+F']\n",
    "simple_methods_svm_add3=simple_methods_svm_add3.iloc[1:,1: ]"
   ]
  },
  {
   "cell_type": "code",
   "execution_count": 40,
   "metadata": {},
   "outputs": [],
   "source": [
    "simple_methods_svm_add3=simple_methods_svm_add3.values.astype(float)"
   ]
  },
  {
   "cell_type": "code",
   "execution_count": 41,
   "metadata": {},
   "outputs": [],
   "source": [
    "simple_methods_rf_add3=simple_methods.iloc[85:90]\n",
    "simple_methods_rf_add3.index=['SVM', 'G+S2', 'G+S3', 'G+T1', 'G+F']\n",
    "simple_methods_rf_add3.columns=['SVM', 'G+S2', 'G+S3', 'G+T1', 'G+F']\n",
    "simple_methods_rf_add3=simple_methods_rf_add3.iloc[1:,1: ]"
   ]
  },
  {
   "cell_type": "code",
   "execution_count": 42,
   "metadata": {},
   "outputs": [],
   "source": [
    "simple_methods_rf_add3=simple_methods_rf_add3.values.astype(float)"
   ]
  },
  {
   "cell_type": "code",
   "execution_count": 43,
   "metadata": {},
   "outputs": [],
   "source": [
    "simple_methods_gdb_add3=simple_methods.iloc[91:96]\n",
    "simple_methods_gdb_add3.index=['SVM', 'G+S2', 'G+S3', 'G+T1', 'G+F']\n",
    "simple_methods_gdb_add3.columns=['SVM', 'G+S2', 'G+S3', 'G+T1', 'G+F']\n",
    "simple_methods_gdb_add3=simple_methods_gdb_add3.iloc[1:,1: ]"
   ]
  },
  {
   "cell_type": "code",
   "execution_count": 44,
   "metadata": {},
   "outputs": [],
   "source": [
    "simple_methods_gdb_add3=simple_methods_gdb_add3.values.astype(float)"
   ]
  },
  {
   "cell_type": "code",
   "execution_count": 45,
   "metadata": {},
   "outputs": [],
   "source": [
    "simple_methods_lr_add3=simple_methods.iloc[97:102]\n",
    "simple_methods_lr_add3.index=['SVM', 'G+S2', 'G+S3', 'G+T1', 'G+F']\n",
    "simple_methods_lr_add3.columns=['SVM', 'G+S2', 'G+S3', 'G+T1', 'G+F']\n",
    "simple_methods_lr_add3=simple_methods_lr_add3.iloc[1:,1: ]"
   ]
  },
  {
   "cell_type": "code",
   "execution_count": 46,
   "metadata": {},
   "outputs": [],
   "source": [
    "simple_methods_lr_add3=simple_methods_lr_add3.values.astype(float)"
   ]
  },
  {
   "cell_type": "markdown",
   "metadata": {},
   "source": [
    "## Add 40000"
   ]
  },
  {
   "cell_type": "code",
   "execution_count": 47,
   "metadata": {},
   "outputs": [],
   "source": [
    "simple_methods_svm_add4=simple_methods.iloc[104:109]\n",
    "simple_methods_svm_add4.index=['SVM', 'G+S2', 'G+S3', 'G+T1', 'G+F']\n",
    "simple_methods_svm_add4.columns=['SVM', 'G+S2', 'G+S3', 'G+T1', 'G+F']\n",
    "simple_methods_svm_add4=simple_methods_svm_add4.iloc[1:,1: ]"
   ]
  },
  {
   "cell_type": "code",
   "execution_count": 48,
   "metadata": {},
   "outputs": [],
   "source": [
    "simple_methods_svm_add4=simple_methods_svm_add4.values.astype(float)"
   ]
  },
  {
   "cell_type": "code",
   "execution_count": 49,
   "metadata": {},
   "outputs": [],
   "source": [
    "simple_methods_rf_add4=simple_methods.iloc[111:116]\n",
    "simple_methods_rf_add4.index=['SVM', 'G+S2', 'G+S3', 'G+T1', 'G+F']\n",
    "simple_methods_rf_add4.columns=['SVM', 'G+S2', 'G+S3', 'G+T1', 'G+F']\n",
    "simple_methods_rf_add4=simple_methods_rf_add4.iloc[1:,1: ]"
   ]
  },
  {
   "cell_type": "code",
   "execution_count": 50,
   "metadata": {},
   "outputs": [],
   "source": [
    "simple_methods_rf_add4=simple_methods_rf_add4.values.astype(float)"
   ]
  },
  {
   "cell_type": "code",
   "execution_count": 51,
   "metadata": {},
   "outputs": [],
   "source": [
    "simple_methods_gdb_add4=simple_methods.iloc[117:122]\n",
    "simple_methods_gdb_add4.index=['SVM', 'G+S2', 'G+S3', 'G+T1', 'G+F']\n",
    "simple_methods_gdb_add4.columns=['SVM', 'G+S2', 'G+S3', 'G+T1', 'G+F']\n",
    "simple_methods_gdb_add4=simple_methods_gdb_add4.iloc[1:,1: ]"
   ]
  },
  {
   "cell_type": "code",
   "execution_count": 52,
   "metadata": {},
   "outputs": [],
   "source": [
    "simple_methods_gdb_add4=simple_methods_gdb_add4.values.astype(float)"
   ]
  },
  {
   "cell_type": "code",
   "execution_count": 53,
   "metadata": {},
   "outputs": [],
   "source": [
    "simple_methods_lr_add4=simple_methods.iloc[123:]\n",
    "simple_methods_lr_add4.index=['SVM', 'G+S2', 'G+S3', 'G+T1', 'G+F']\n",
    "simple_methods_lr_add4.columns=['SVM', 'G+S2', 'G+S3', 'G+T1', 'G+F']\n",
    "simple_methods_lr_add4=simple_methods_lr_add4.iloc[1:,1: ]"
   ]
  },
  {
   "cell_type": "code",
   "execution_count": 54,
   "metadata": {},
   "outputs": [],
   "source": [
    "simple_methods_lr_add4=simple_methods_lr_add4.values.astype(float)"
   ]
  },
  {
   "cell_type": "code",
   "execution_count": 89,
   "metadata": {},
   "outputs": [
    {
     "data": {
      "image/png": "[encoded data removed]",
      "text/plain": [
       "<Figure size 432x288 with 30 Axes>"
      ]
     },
     "metadata": {
      "needs_background": "light"
     },
     "output_type": "display_data"
    }
   ],
   "source": [
    "import seaborn as sns\n",
    "import matplotlib.pyplot as plt\n",
    "\n",
    "plt.subplot(3,5,1)\n",
    "ax = sns.heatmap(simple_methods_rf_no, xticklabels=['S2', 'S3', 'T1', 'F'], yticklabels=['S2', 'S3', 'T1', 'F'], annot=True, vmin=0.4, vmax=1)\n",
    "ax.set_title('RF accuracy no added data')\n",
    "ax.set_xlabel('train set')\n",
    "ax.set_ylabel('test set')\n",
    "label_y = ax.get_yticklabels()\n",
    "plt.setp(label_y, rotation=360, horizontalalignment='right')\n",
    "label_x = ax.get_xticklabels()\n",
    "plt.setp(label_x, rotation=360, horizontalalignment='right')\n",
    "\n",
    "plt.subplot(3,5,2)\n",
    "ax = sns.heatmap(simple_methods_rf_add1, xticklabels=['S2', 'S3', 'T1', 'F'], yticklabels=['S2', 'S3', 'T1', 'F'],annot=True,vmin=0.4, vmax=1)\n",
    "ax.set_title('RF accuracy adding 10000')\n",
    "ax.set_xlabel('train set')\n",
    "ax.set_ylabel('test set')\n",
    "label_y = ax.get_yticklabels()\n",
    "plt.setp(label_y, rotation=360, horizontalalignment='right')\n",
    "label_x = ax.get_xticklabels()\n",
    "plt.setp(label_x, rotation=360, horizontalalignment='right')\n",
    "\n",
    "plt.subplot(3,5,3)\n",
    "ax = sns.heatmap(simple_methods_rf_add2, xticklabels=['S2', 'S3', 'T1', 'F'], yticklabels=['S2', 'S3', 'T1', 'F'],annot=True,vmin=0.4, vmax=1)\n",
    "ax.set_title('RF accuracy adding 20000')\n",
    "ax.set_xlabel('train set')\n",
    "ax.set_ylabel('test set')\n",
    "label_y = ax.get_yticklabels()\n",
    "plt.setp(label_y, rotation=360, horizontalalignment='right')\n",
    "label_x = ax.get_xticklabels()\n",
    "plt.setp(label_x, rotation=360, horizontalalignment='right')\n",
    "\n",
    "plt.subplot(3,5,4)\n",
    "ax = sns.heatmap(simple_methods_rf_add3, xticklabels=['S2', 'S3', 'T1', 'F'], yticklabels=['S2', 'S3', 'T1', 'F'],annot=True,vmin=0.4, vmax=1)\n",
    "ax.set_title('RF accuracy adding 30000')\n",
    "ax.set_xlabel('train set')\n",
    "ax.set_ylabel('test set')\n",
    "label_y = ax.get_yticklabels()\n",
    "plt.setp(label_y, rotation=360, horizontalalignment='right')\n",
    "label_x = ax.get_xticklabels()\n",
    "plt.setp(label_x, rotation=360, horizontalalignment='right')\n",
    "\n",
    "plt.subplot(3,5,5)\n",
    "ax = sns.heatmap(simple_methods_rf_add4, xticklabels=['S2', 'S3', 'T1', 'F'], yticklabels=['S2', 'S3', 'T1', 'F'],annot=True,vmin=0.4, vmax=1)\n",
    "ax.set_title('RF accuracy adding 40000')\n",
    "ax.set_xlabel('train set')\n",
    "ax.set_ylabel('test set')\n",
    "label_y = ax.get_yticklabels()\n",
    "plt.setp(label_y, rotation=360, horizontalalignment='right')\n",
    "label_x = ax.get_xticklabels()\n",
    "plt.setp(label_x, rotation=360, horizontalalignment='right')\n",
    "\n",
    "plt.subplot(3,5,6)\n",
    "ax = sns.heatmap(simple_methods_gdb_no, xticklabels=['S2', 'S3', 'T1', 'F'], yticklabels=['S2', 'S3', 'T1', 'F'], annot=True, vmin=0.4, vmax=1)\n",
    "ax.set_title('GDB accuracy no added data')\n",
    "ax.set_xlabel('train set')\n",
    "ax.set_ylabel('test set')\n",
    "label_y = ax.get_yticklabels()\n",
    "plt.setp(label_y, rotation=360, horizontalalignment='right')\n",
    "label_x = ax.get_xticklabels()\n",
    "plt.setp(label_x, rotation=360, horizontalalignment='right')\n",
    "\n",
    "plt.subplot(3,5,7)\n",
    "ax = sns.heatmap(simple_methods_gdb_add1, xticklabels=['S2', 'S3', 'T1', 'F'], yticklabels=['S2', 'S3', 'T1', 'F'],annot=True,vmin=0.4, vmax=1)\n",
    "ax.set_title('GDB accuracy adding 10000')\n",
    "ax.set_xlabel('train set')\n",
    "ax.set_ylabel('test set')\n",
    "label_y = ax.get_yticklabels()\n",
    "plt.setp(label_y, rotation=360, horizontalalignment='right')\n",
    "label_x = ax.get_xticklabels()\n",
    "plt.setp(label_x, rotation=360, horizontalalignment='right')\n",
    "\n",
    "plt.subplot(3,5,8)\n",
    "ax = sns.heatmap(simple_methods_gdb_add2, xticklabels=['S2', 'S3', 'T1', 'F'], yticklabels=['S2', 'S3', 'T1', 'F'],annot=True,vmin=0.4, vmax=1)\n",
    "ax.set_title('GDB accuracy adding 20000')\n",
    "ax.set_xlabel('train set')\n",
    "ax.set_ylabel('test set')\n",
    "label_y = ax.get_yticklabels()\n",
    "plt.setp(label_y, rotation=360, horizontalalignment='right')\n",
    "label_x = ax.get_xticklabels()\n",
    "plt.setp(label_x, rotation=360, horizontalalignment='right')\n",
    "\n",
    "plt.subplot(3,5,9)\n",
    "ax = sns.heatmap(simple_methods_gdb_add3, xticklabels=['S2', 'S3', 'T1', 'F'], yticklabels=['S2', 'S3', 'T1', 'F'],annot=True,vmin=0.4, vmax=1)\n",
    "ax.set_title('GDB accuracy adding 30000')\n",
    "ax.set_xlabel('train set')\n",
    "ax.set_ylabel('test set')\n",
    "label_y = ax.get_yticklabels()\n",
    "plt.setp(label_y, rotation=360, horizontalalignment='right')\n",
    "label_x = ax.get_xticklabels()\n",
    "plt.setp(label_x, rotation=360, horizontalalignment='right')\n",
    "\n",
    "plt.subplot(3,5,10)\n",
    "ax = sns.heatmap(simple_methods_gdb_add4, xticklabels=['S2', 'S3', 'T1', 'F'], yticklabels=['S2', 'S3', 'T1', 'F'],annot=True,vmin=0.4, vmax=1)\n",
    "ax.set_title('GDB accuracy adding 40000')\n",
    "ax.set_xlabel('train set')\n",
    "ax.set_ylabel('test set')\n",
    "label_y = ax.get_yticklabels()\n",
    "plt.setp(label_y, rotation=360, horizontalalignment='right')\n",
    "label_x = ax.get_xticklabels()\n",
    "plt.setp(label_x, rotation=360, horizontalalignment='right')\n",
    "\n",
    "plt.subplot(3,5,11)\n",
    "ax = sns.heatmap(simple_methods_lr_no, xticklabels=['S2', 'S3', 'T1', 'F'], yticklabels=['S2', 'S3', 'T1', 'F'], annot=True, vmin=0.4, vmax=1)\n",
    "ax.set_title('LR accuracy no added data')\n",
    "ax.set_xlabel('train set')\n",
    "ax.set_ylabel('test set')\n",
    "label_y = ax.get_yticklabels()\n",
    "plt.setp(label_y, rotation=360, horizontalalignment='right')\n",
    "label_x = ax.get_xticklabels()\n",
    "plt.setp(label_x, rotation=360, horizontalalignment='right')\n",
    "\n",
    "plt.subplot(3,5,12)\n",
    "ax = sns.heatmap(simple_methods_lr_add1, xticklabels=['S2', 'S3', 'T1', 'F'], yticklabels=['S2', 'S3', 'T1', 'F'],annot=True,vmin=0.4, vmax=1)\n",
    "ax.set_title('LR accuracy adding 10000')\n",
    "ax.set_xlabel('train set')\n",
    "ax.set_ylabel('test set')\n",
    "label_y = ax.get_yticklabels()\n",
    "plt.setp(label_y, rotation=360, horizontalalignment='right')\n",
    "label_x = ax.get_xticklabels()\n",
    "plt.setp(label_x, rotation=360, horizontalalignment='right')\n",
    "\n",
    "plt.subplot(3,5,13)\n",
    "ax = sns.heatmap(simple_methods_lr_add2, xticklabels=['S2', 'S3', 'T1', 'F'], yticklabels=['S2', 'S3', 'T1', 'F'],annot=True,vmin=0.4, vmax=1)\n",
    "ax.set_title('LR accuracy adding 20000')\n",
    "ax.set_xlabel('train set')\n",
    "ax.set_ylabel('test set')\n",
    "label_y = ax.get_yticklabels()\n",
    "plt.setp(label_y, rotation=360, horizontalalignment='right')\n",
    "label_x = ax.get_xticklabels()\n",
    "plt.setp(label_x, rotation=360, horizontalalignment='right')\n",
    "\n",
    "plt.subplot(3,5,14)\n",
    "ax = sns.heatmap(simple_methods_lr_add3, xticklabels=['S2', 'S3', 'T1', 'F'], yticklabels=['S2', 'S3', 'T1', 'F'],annot=True,vmin=0.4, vmax=1)\n",
    "ax.set_title('LR accuracy adding 30000')\n",
    "ax.set_xlabel('train set')\n",
    "ax.set_ylabel('test set')\n",
    "label_y = ax.get_yticklabels()\n",
    "plt.setp(label_y, rotation=360, horizontalalignment='right')\n",
    "label_x = ax.get_xticklabels()\n",
    "plt.setp(label_x, rotation=360, horizontalalignment='right')\n",
    "\n",
    "plt.subplot(3,5,15)\n",
    "ax = sns.heatmap(simple_methods_lr_add4, xticklabels=['S2', 'S3', 'T1', 'F'], yticklabels=['S2', 'S3', 'T1', 'F'],annot=True,vmin=0.4, vmax=1)\n",
    "ax.set_title('LR accuracy adding 40000')\n",
    "ax.set_xlabel('train set')\n",
    "ax.set_ylabel('test set')\n",
    "label_y = ax.get_yticklabels()\n",
    "plt.setp(label_y, rotation=360, horizontalalignment='right')\n",
    "label_x = ax.get_xticklabels()\n",
    "plt.setp(label_x, rotation=360, horizontalalignment='right')\n",
    "\n",
    "plt.subplots_adjust(left=0.1 , bottom=0.1, right=2.5, top=2.1,\n",
    "                wspace=0.25, hspace=0.35)"
   ]
  },
  {
   "cell_type": "code",
   "execution_count": 51,
   "metadata": {},
   "outputs": [],
   "source": [
    "import pandas as pd\n",
    "simple_methods_plus=pd.read_csv('simplemethods_summary.csv')"
   ]
  },
  {
   "cell_type": "code",
   "execution_count": 52,
   "metadata": {},
   "outputs": [],
   "source": [
    "simple_methods_plus_svm=simple_methods_plus.iloc[0:16]"
   ]
  },
  {
   "cell_type": "code",
   "execution_count": 53,
   "metadata": {},
   "outputs": [
    {
     "data": {
      "text/html": [
       "<div>\n",
       "<style scoped>\n",
       "    .dataframe tbody tr th:only-of-type {\n",
       "        vertical-align: middle;\n",
       "    }\n",
       "\n",
       "    .dataframe tbody tr th {\n",
       "        vertical-align: top;\n",
       "    }\n",
       "\n",
       "    .dataframe thead th {\n",
       "        text-align: right;\n",
       "    }\n",
       "</style>\n",
       "<table border=\"1\" class=\"dataframe\">\n",
       "  <thead>\n",
       "    <tr style=\"text-align: right;\">\n",
       "      <th></th>\n",
       "      <th>No add</th>\n",
       "      <th>Add 10000</th>\n",
       "      <th>Add 20000</th>\n",
       "      <th>Add 30000</th>\n",
       "      <th>Add 40000</th>\n",
       "    </tr>\n",
       "  </thead>\n",
       "  <tbody>\n",
       "    <tr>\n",
       "      <th>0</th>\n",
       "      <td>0.54</td>\n",
       "      <td>0.43</td>\n",
       "      <td>0.48</td>\n",
       "      <td>0.69</td>\n",
       "      <td>0.53</td>\n",
       "    </tr>\n",
       "    <tr>\n",
       "      <th>1</th>\n",
       "      <td>0.42</td>\n",
       "      <td>0.43</td>\n",
       "      <td>0.43</td>\n",
       "      <td>0.43</td>\n",
       "      <td>0.42</td>\n",
       "    </tr>\n",
       "    <tr>\n",
       "      <th>2</th>\n",
       "      <td>0.83</td>\n",
       "      <td>0.81</td>\n",
       "      <td>0.78</td>\n",
       "      <td>0.77</td>\n",
       "      <td>0.87</td>\n",
       "    </tr>\n",
       "    <tr>\n",
       "      <th>3</th>\n",
       "      <td>0.59</td>\n",
       "      <td>0.78</td>\n",
       "      <td>0.48</td>\n",
       "      <td>0.63</td>\n",
       "      <td>0.73</td>\n",
       "    </tr>\n",
       "    <tr>\n",
       "      <th>4</th>\n",
       "      <td>0.43</td>\n",
       "      <td>0.78</td>\n",
       "      <td>0.42</td>\n",
       "      <td>0.58</td>\n",
       "      <td>0.46</td>\n",
       "    </tr>\n",
       "    <tr>\n",
       "      <th>5</th>\n",
       "      <td>0.43</td>\n",
       "      <td>0.78</td>\n",
       "      <td>0.41</td>\n",
       "      <td>0.73</td>\n",
       "      <td>0.45</td>\n",
       "    </tr>\n",
       "    <tr>\n",
       "      <th>6</th>\n",
       "      <td>0.75</td>\n",
       "      <td>0.62</td>\n",
       "      <td>0.77</td>\n",
       "      <td>0.80</td>\n",
       "      <td>0.80</td>\n",
       "    </tr>\n",
       "    <tr>\n",
       "      <th>7</th>\n",
       "      <td>0.82</td>\n",
       "      <td>0.70</td>\n",
       "      <td>0.48</td>\n",
       "      <td>0.79</td>\n",
       "      <td>0.81</td>\n",
       "    </tr>\n",
       "    <tr>\n",
       "      <th>8</th>\n",
       "      <td>0.42</td>\n",
       "      <td>0.56</td>\n",
       "      <td>0.41</td>\n",
       "      <td>0.40</td>\n",
       "      <td>0.43</td>\n",
       "    </tr>\n",
       "    <tr>\n",
       "      <th>9</th>\n",
       "      <td>0.41</td>\n",
       "      <td>0.54</td>\n",
       "      <td>0.41</td>\n",
       "      <td>0.41</td>\n",
       "      <td>0.42</td>\n",
       "    </tr>\n",
       "    <tr>\n",
       "      <th>10</th>\n",
       "      <td>0.81</td>\n",
       "      <td>0.81</td>\n",
       "      <td>0.82</td>\n",
       "      <td>0.86</td>\n",
       "      <td>0.83</td>\n",
       "    </tr>\n",
       "    <tr>\n",
       "      <th>11</th>\n",
       "      <td>0.60</td>\n",
       "      <td>0.59</td>\n",
       "      <td>0.62</td>\n",
       "      <td>0.44</td>\n",
       "      <td>0.56</td>\n",
       "    </tr>\n",
       "    <tr>\n",
       "      <th>12</th>\n",
       "      <td>0.74</td>\n",
       "      <td>0.59</td>\n",
       "      <td>0.46</td>\n",
       "      <td>0.46</td>\n",
       "      <td>0.58</td>\n",
       "    </tr>\n",
       "    <tr>\n",
       "      <th>13</th>\n",
       "      <td>0.53</td>\n",
       "      <td>0.56</td>\n",
       "      <td>0.44</td>\n",
       "      <td>0.70</td>\n",
       "      <td>0.54</td>\n",
       "    </tr>\n",
       "    <tr>\n",
       "      <th>14</th>\n",
       "      <td>0.82</td>\n",
       "      <td>0.74</td>\n",
       "      <td>0.83</td>\n",
       "      <td>0.71</td>\n",
       "      <td>0.76</td>\n",
       "    </tr>\n",
       "    <tr>\n",
       "      <th>15</th>\n",
       "      <td>0.76</td>\n",
       "      <td>0.76</td>\n",
       "      <td>0.78</td>\n",
       "      <td>0.83</td>\n",
       "      <td>0.79</td>\n",
       "    </tr>\n",
       "  </tbody>\n",
       "</table>\n",
       "</div>"
      ],
      "text/plain": [
       "   No add Add 10000 Add 20000 Add 30000 Add 40000\n",
       "0    0.54      0.43      0.48      0.69      0.53\n",
       "1    0.42      0.43      0.43      0.43      0.42\n",
       "2    0.83      0.81      0.78      0.77      0.87\n",
       "3    0.59      0.78      0.48      0.63      0.73\n",
       "4    0.43      0.78      0.42      0.58      0.46\n",
       "5    0.43      0.78      0.41      0.73      0.45\n",
       "6    0.75      0.62      0.77      0.80      0.80\n",
       "7    0.82      0.70      0.48      0.79      0.81\n",
       "8    0.42      0.56      0.41      0.40      0.43\n",
       "9    0.41      0.54      0.41      0.41      0.42\n",
       "10   0.81      0.81      0.82      0.86      0.83\n",
       "11   0.60      0.59      0.62      0.44      0.56\n",
       "12   0.74      0.59      0.46      0.46      0.58\n",
       "13   0.53      0.56      0.44      0.70      0.54\n",
       "14   0.82      0.74      0.83      0.71      0.76\n",
       "15   0.76      0.76      0.78      0.83      0.79"
      ]
     },
     "execution_count": 53,
     "metadata": {},
     "output_type": "execute_result"
    }
   ],
   "source": [
    "simple_methods_plus_svm=simple_methods_plus_svm.drop(columns='SVM')\n",
    "simple_methods_plus_svm"
   ]
  },
  {
   "cell_type": "code",
   "execution_count": 115,
   "metadata": {},
   "outputs": [],
   "source": [
    "s1=simple_methods_plus_svm['No add']\n",
    "s2=simple_methods_plus_svm['Add 10000']\n",
    "s3=simple_methods_plus_svm['Add 20000']\n",
    "s4=simple_methods_plus_svm['Add 30000']\n",
    "s5=simple_methods_plus_svm['Add 40000']\n",
    "s = pd.concat([s1,s2,s3,s4,s5], axis=0)\n",
    "s=pd.DataFrame(s, columns=['Accuracy'])\n",
    "s['Added Test Datapoints']=None\n",
    "s['Added Test Datapoints'][:16]=0\n",
    "s['Added Test Datapoints'][16:32]=10000\n",
    "s['Added Test Datapoints'][32:48]=20000\n",
    "s['Added Test Datapoints'][48:64]=30000\n",
    "s['Added Test Datapoints'][64:80]=40000"
   ]
  },
  {
   "cell_type": "code",
   "execution_count": 116,
   "metadata": {},
   "outputs": [
    {
     "data": {
      "image/png": "[encoded data removed]",
      "text/plain": [
       "<Figure size 432x288 with 1 Axes>"
      ]
     },
     "metadata": {},
     "output_type": "display_data"
    }
   ],
   "source": [
    "import seaborn as sns; sns.set()\n",
    "import matplotlib.pyplot as plt\n",
    "ax = sns.scatterplot(x=\"Added Test Datapoints\", y=\"Accuracy\", data=s, x_bins=[0,1,2,3,4])\n"
   ]
  },
  {
   "cell_type": "code",
   "execution_count": 60,
   "metadata": {},
   "outputs": [],
   "source": [
    "for i in range(len(simple_methods_plus_svm)):\n",
    "    for j in range(5):\n",
    "        simple_methods_plus_svm.iloc[i][j]=float(simple_methods_plus_svm.iloc[i][j])"
   ]
  },
  {
   "cell_type": "code",
   "execution_count": 162,
   "metadata": {},
   "outputs": [
    {
     "data": {
      "text/plain": [
       "Ttest_indResult(statistic=-0.0840687459008415, pvalue=0.9335602706315933)"
      ]
     },
     "execution_count": 162,
     "metadata": {},
     "output_type": "execute_result"
    }
   ],
   "source": [
    "from scipy.stats import ttest_ind, ttest_ind_from_stats\n",
    "stats.ttest_ind(simple_methods_plus_svm['No add'],simple_methods_plus_svm['Add 40000'])"
   ]
  },
  {
   "cell_type": "code",
   "execution_count": 114,
   "metadata": {},
   "outputs": [
    {
     "data": {
      "image/png": "[encoded data removed]",
      "text/plain": [
       "<Figure size 432x288 with 1 Axes>"
      ]
     },
     "metadata": {},
     "output_type": "display_data"
    }
   ],
   "source": [
    "import seaborn as sns; sns.set()\n",
    "import matplotlib.pyplot as plt\n",
    "ax = sns.scatterplot(x=\"No add\", y=\"Add 40000\", data=simple_methods_plus_svm)"
   ]
  },
  {
   "cell_type": "code",
   "execution_count": 125,
   "metadata": {},
   "outputs": [],
   "source": [
    "simple_methods_plus_rf=simple_methods_plus[17:34]\n",
    "\n",
    "simple_methods_plus_rf.index=['rf', 'G+S2->G+S2', 'G+S3->G+S2', 'G+T1->G+S2', 'G+F->G+S2', 'G+S2->G+S3', \n",
    "                             'G+S3->G+S3','G+T1->G+S3','G+F->G+S3','G+S2->G+T1','G+S3->G+T1','G+T1->G+T1',\n",
    "                             'G+F->G+T1','G+S2->G+F','G+S3->G+F','G+T1->G+F','G+F->G+F']\n",
    "simple_methods_plus_rf.columns=['rf', 'No add', 'Add 10000', 'Add 20000', 'Add 30000', 'Add 40000']\n",
    "simple_methods_plus_rf=simple_methods_plus_rf.iloc[1:,1: ]"
   ]
  },
  {
   "cell_type": "code",
   "execution_count": 126,
   "metadata": {},
   "outputs": [],
   "source": [
    "simple_methods_plus_gdb=simple_methods_plus[35:52]\n",
    "\n",
    "simple_methods_plus_gdb.index=['gdb', 'G+S2->G+S2', 'G+S3->G+S2', 'G+T1->G+S2', 'G+F->G+S2', 'G+S2->G+S3', \n",
    "                             'G+S3->G+S3','G+T1->G+S3','G+F->G+S3','G+S2->G+T1','G+S3->G+T1','G+T1->G+T1',\n",
    "                             'G+F->G+T1','G+S2->G+F','G+S3->G+F','G+T1->G+F','G+F->G+F']\n",
    "simple_methods_plus_gdb.columns=['gdb', 'No add', 'Add 10000', 'Add 20000', 'Add 30000', 'Add 40000']\n",
    "simple_methods_plus_gdb=simple_methods_plus_gdb.iloc[1:,1: ]\n",
    "\n",
    "\n",
    "simple_methods_plus_lr=simple_methods_plus[53:70]\n",
    "\n",
    "simple_methods_plus_lr.index=['lr', 'G+S2->G+S2', 'G+S3->G+S2', 'G+T1->G+S2', 'G+F->G+S2', 'G+S2->G+S3', \n",
    "                             'G+S3->G+S3','G+T1->G+S3','G+F->G+S3','G+S2->G+T1','G+S3->G+T1','G+T1->G+T1',\n",
    "                             'G+F->G+T1','G+S2->G+F','G+S3->G+F','G+T1->G+F','G+F->G+F']\n",
    "simple_methods_plus_lr.columns=['lr', 'No add', 'Add 10000', 'Add 20000', 'Add 30000', 'Add 40000']\n",
    "simple_methods_plus_lr=simple_methods_plus_lr.iloc[1:,1: ]\n",
    "\n"
   ]
  },
  {
   "cell_type": "code",
   "execution_count": 128,
   "metadata": {},
   "outputs": [],
   "source": [
    "simple_methods_plus_rf['Median']=None\n",
    "for i in range(len(simple_methods_plus_rf)):\n",
    "    simple_methods_plus_rf['Median'][i]=simple_methods_plus_rf.iloc[i].median()"
   ]
  },
  {
   "cell_type": "code",
   "execution_count": 144,
   "metadata": {},
   "outputs": [],
   "source": [
    "simple_methods_plus_gdb['Median']=None\n",
    "for i in range(len(simple_methods_plus_gdb)):\n",
    "    simple_methods_plus_gdb['Median'][i]=simple_methods_plus_gdb.iloc[i].median()"
   ]
  },
  {
   "cell_type": "code",
   "execution_count": 145,
   "metadata": {},
   "outputs": [],
   "source": [
    "simple_methods_plus_lr['Median']=None\n",
    "for i in range(len(simple_methods_plus_lr)):\n",
    "    simple_methods_plus_lr['Median'][i]=simple_methods_plus_lr.iloc[i].median()"
   ]
  },
  {
   "cell_type": "code",
   "execution_count": 161,
   "metadata": {},
   "outputs": [
    {
     "data": {
      "image/png": "[encoded data removed]",
      "text/plain": [
       "<Figure size 1440x720 with 3 Axes>"
      ]
     },
     "metadata": {},
     "output_type": "display_data"
    }
   ],
   "source": [
    "import seaborn as sns\n",
    "import matplotlib.pyplot as plt\n",
    "\n",
    "plt.subplot(1,3,1)\n",
    "ax=sns.barplot(x=simple_methods_plus_rf['Median'],y=simple_methods_plus_rf.index)\n",
    "ax.set_title('Random Forest Median accuracy')\n",
    "ax.set_xlabel('Median Accuracy')\n",
    "\n",
    "plt.subplot(1,3,2)\n",
    "ax=sns.barplot(x=simple_methods_plus_gdb['Median'],y=simple_methods_plus_gdb.index)\n",
    "ax.set_title('GD Boosting Median accuracy')\n",
    "ax.set_xlabel('Median Accuracy')\n",
    "\n",
    "plt.subplot(1,3,3)\n",
    "ax=sns.barplot(x=simple_methods_plus_lr['Median'],y=simple_methods_plus_lr.index)\n",
    "ax.set_title('Logistic Regression Median accuracy')\n",
    "ax.set_xlabel('Median Accuracy')\n",
    "\n",
    "plt.subplots_adjust(left=0.125,right=1.0,bottom=0.1, top=0.9,\n",
    "                wspace=0.25, hspace = 0.2)"
   ]
  },
  {
   "cell_type": "code",
   "execution_count": null,
   "metadata": {},
   "outputs": [],
   "source": []
  }
 ],
 "metadata": {
  "kernelspec": {
   "display_name": "Python 3",
   "language": "python",
   "name": "python3"
  },
  "language_info": {
   "codemirror_mode": {
    "name": "ipython",
    "version": 3
   },
   "file_extension": ".py",
   "mimetype": "text/x-python",
   "name": "python",
   "nbconvert_exporter": "python",
   "pygments_lexer": "ipython3",
   "version": "3.6.7"
  }
 },
 "nbformat": 4,
 "nbformat_minor": 2
}
